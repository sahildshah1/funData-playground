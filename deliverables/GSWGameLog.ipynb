{
 "cells": [
  {
   "cell_type": "markdown",
   "metadata": {},
   "source": [
    "## GSW Game Logs"
   ]
  },
  {
   "cell_type": "markdown",
   "metadata": {},
   "source": [
    "Author: \n",
    "    Sahil D. Shah (sahil.shah@u.northwestern.edu)\n",
    "    \n",
    "Last updated: \n",
    "    04/08/19\n",
    "    \n",
    "Description: \n",
    "    Code used for my GSW Game Log analysis: What are the most important variables?\n",
    "    \n",
    "   https://www.reddit.com/r/nba/comments/8hh0kt/ocsteve_kerr_said_the_most_important_boxscore/\n",
    "   \n",
    "   \"I look at the opponent's field goal percentage, our assists, and our turnovers. Those are\n",
    "   the three numbers... If we defend and take care of the ball we win. And it's generally the\n",
    "   case, and those three numbers usually tell the story.\"\n",
    "   \n",
    "   What variables are most importnt for predicting GSW win? Are they the three Steve Kerr\n",
    "   said?\n",
    "    \n",
    "Dataset: \n",
    "   \n",
    "   GSW Game Logs from the \n",
    "   2015-2016, \n",
    "   2016-2017, \n",
    "   2017-2018 \n",
    "   \n",
    "   seasons from Basketball Reference:\n",
    "   \n",
    "   https://www.basketball-reference.com/teams/GSW/2016/gamelog/\n",
    "   \n",
    "   Saved each of the three season's game logs as CSV files, dropped extra columns \n",
    "   and copied into CSV file: GSW-GameLogs.csv 82*3 games by 17 stats (16 team/opp stats + W/L)\n",
    "   "
   ]
  },
  {
   "cell_type": "markdown",
   "metadata": {},
   "source": [
    "### Import modules and check versions of packages\n"
   ]
  },
  {
   "cell_type": "code",
   "execution_count": 1,
   "metadata": {},
   "outputs": [
    {
     "name": "stderr",
     "output_type": "stream",
     "text": [
      "/Users/sds930/anaconda/lib/python3.6/importlib/_bootstrap.py:205: RuntimeWarning: numpy.dtype size changed, may indicate binary incompatibility. Expected 96, got 88\n",
      "  return f(*args, **kwds)\n",
      "/Users/sds930/anaconda/lib/python3.6/importlib/_bootstrap.py:205: RuntimeWarning: numpy.dtype size changed, may indicate binary incompatibility. Expected 96, got 88\n",
      "  return f(*args, **kwds)\n",
      "/Users/sds930/anaconda/lib/python3.6/site-packages/sklearn/ensemble/weight_boosting.py:29: DeprecationWarning: numpy.core.umath_tests is an internal NumPy module and should not be imported. It will be removed in a future NumPy release.\n",
      "  from numpy.core.umath_tests import inner1d\n"
     ]
    }
   ],
   "source": [
    "\n",
    "import pandas as pd\n",
    "\n",
    "import sklearn\n",
    "\n",
    "import numpy as np\n",
    "\n",
    "from sklearn.ensemble import RandomForestClassifier\n",
    "\n",
    "import matplotlib\n",
    "\n",
    "import matplotlib.pyplot as plt\n"
   ]
  },
  {
   "cell_type": "markdown",
   "metadata": {},
   "source": [
    "What version of Python am I running?\n",
    "\n",
    "https://stackoverflow.com/questions/40694528/how-to-know-which-is-running-in-jupyter-notebook"
   ]
  },
  {
   "cell_type": "code",
   "execution_count": 2,
   "metadata": {},
   "outputs": [
    {
     "name": "stdout",
     "output_type": "stream",
     "text": [
      "3.6.1\n"
     ]
    }
   ],
   "source": [
    "from platform import python_version\n",
    "\n",
    "print(python_version())"
   ]
  },
  {
   "cell_type": "markdown",
   "metadata": {},
   "source": [
    "What version of pandas, matplotlib, and seaborn did I perform this analysis with ?"
   ]
  },
  {
   "cell_type": "code",
   "execution_count": 3,
   "metadata": {},
   "outputs": [
    {
     "data": {
      "text/plain": [
       "'0.23.4'"
      ]
     },
     "execution_count": 3,
     "metadata": {},
     "output_type": "execute_result"
    }
   ],
   "source": [
    "pd.__version__"
   ]
  },
  {
   "cell_type": "code",
   "execution_count": 4,
   "metadata": {},
   "outputs": [
    {
     "data": {
      "text/plain": [
       "'0.18.1'"
      ]
     },
     "execution_count": 4,
     "metadata": {},
     "output_type": "execute_result"
    }
   ],
   "source": [
    "sklearn.__version__"
   ]
  },
  {
   "cell_type": "code",
   "execution_count": 5,
   "metadata": {},
   "outputs": [
    {
     "data": {
      "text/plain": [
       "'1.15.0'"
      ]
     },
     "execution_count": 5,
     "metadata": {},
     "output_type": "execute_result"
    }
   ],
   "source": [
    "np.__version__"
   ]
  },
  {
   "cell_type": "code",
   "execution_count": 6,
   "metadata": {},
   "outputs": [
    {
     "data": {
      "text/plain": [
       "'2.2.2'"
      ]
     },
     "execution_count": 6,
     "metadata": {},
     "output_type": "execute_result"
    }
   ],
   "source": [
    "matplotlib.__version__"
   ]
  },
  {
   "cell_type": "markdown",
   "metadata": {},
   "source": [
    "### Obtain the data"
   ]
  },
  {
   "cell_type": "markdown",
   "metadata": {},
   "source": [
    "Save table from Basketball Reference as a csv and read in as a Pandas dataframe"
   ]
  },
  {
   "cell_type": "code",
   "execution_count": 7,
   "metadata": {
    "collapsed": true
   },
   "outputs": [],
   "source": [
    "df_raw = pd.read_csv(\"../data/GSW-GameLog.csv\")"
   ]
  },
  {
   "cell_type": "code",
   "execution_count": 8,
   "metadata": {},
   "outputs": [
    {
     "name": "stdout",
     "output_type": "stream",
     "text": [
      "<class 'pandas.core.frame.DataFrame'>\n",
      "RangeIndex: 246 entries, 0 to 245\n",
      "Data columns (total 17 columns):\n",
      "W/L             246 non-null object\n",
      "Team FG%        246 non-null float64\n",
      "Team 3P%        246 non-null float64\n",
      "Team FT%        246 non-null float64\n",
      "Team TRB        246 non-null int64\n",
      "Team AST        246 non-null int64\n",
      "Team STL        246 non-null int64\n",
      "Team BLK        246 non-null int64\n",
      "Team TOV        246 non-null int64\n",
      "Opponent FG%    246 non-null float64\n",
      "Opponent 3P%    246 non-null float64\n",
      "Opponent FT%    246 non-null float64\n",
      "Opponent TRB    246 non-null int64\n",
      "Opponent AST    246 non-null int64\n",
      "Opponent STL    246 non-null int64\n",
      "Opponent BLK    246 non-null int64\n",
      "Opponent TOV    246 non-null int64\n",
      "dtypes: float64(6), int64(10), object(1)\n",
      "memory usage: 32.8+ KB\n"
     ]
    }
   ],
   "source": [
    "df_raw.info()"
   ]
  },
  {
   "cell_type": "code",
   "execution_count": 19,
   "metadata": {},
   "outputs": [],
   "source": [
    "#df_raw.head()"
   ]
  },
  {
   "cell_type": "markdown",
   "metadata": {},
   "source": []
  },
  {
   "cell_type": "markdown",
   "metadata": {},
   "source": [
    "### Model the data "
   ]
  },
  {
   "cell_type": "markdown",
   "metadata": {},
   "source": [
    "For info on parameters and RandomForestClassifier function see:\n",
    "\n",
    "- https://scikit-learn.org/stable/modules/ensemble.html#parameters\n",
    "\n",
    "- https://scikit-learn.org/stable/modules/generated/sklearn.ensemble.RandomForestClassifier.html#sklearn.ensemble.RandomForestClassifier"
   ]
  },
  {
   "cell_type": "code",
   "execution_count": 10,
   "metadata": {
    "collapsed": true
   },
   "outputs": [],
   "source": [
    "    \n",
    "clf = RandomForestClassifier(n_estimators = 100,\n",
    "                             max_features = \"auto\") # If “auto”, then max_features=sqrt(n_features)."
   ]
  },
  {
   "cell_type": "markdown",
   "metadata": {},
   "source": [
    "Info on forest classifiers: \n",
    "\n",
    "\"forest classifiers have to be fitted with two arrays: a sparse or dense array X of size [n_samples, n_features] holding the training samples, and an array Y of size [n_samples] holding the target values (class labels) for the training samples:\"\n",
    "\n",
    "For more info see: https://scikit-learn.org/stable/modules/ensemble.html#forests-of-randomized-trees : "
   ]
  },
  {
   "cell_type": "code",
   "execution_count": 11,
   "metadata": {
    "collapsed": true
   },
   "outputs": [],
   "source": [
    "X = df_raw.iloc[:,1:]\n",
    "Y = df_raw.iloc[:,0].values\n",
    "\n",
    "clf = clf.fit(X, Y)"
   ]
  },
  {
   "cell_type": "code",
   "execution_count": null,
   "metadata": {
    "collapsed": true
   },
   "outputs": [],
   "source": []
  },
  {
   "cell_type": "markdown",
   "metadata": {},
   "source": [
    "### Visualize feature importance"
   ]
  },
  {
   "cell_type": "code",
   "execution_count": 16,
   "metadata": {
    "collapsed": true
   },
   "outputs": [],
   "source": [
    "df_vp = pd.DataFrame(data = clf.feature_importances_,\n",
    "                     index = list(X), #list(data frame) colnames\n",
    "                     columns = ['feature_importance'])"
   ]
  },
  {
   "cell_type": "code",
   "execution_count": 17,
   "metadata": {
    "collapsed": true
   },
   "outputs": [],
   "source": [
    "df_sorted = df_vp.sort_values(by=['feature_importance'])"
   ]
  },
  {
   "cell_type": "code",
   "execution_count": 18,
   "metadata": {},
   "outputs": [
    {
     "data": {
      "image/png": "[encoded data removed]",
      "text/plain": [
       "<Figure size 432x288 with 1 Axes>"
      ]
     },
     "metadata": {},
     "output_type": "display_data"
    }
   ],
   "source": [
    "df_sorted.plot.barh()\n",
    "plt.show()"
   ]
  },
  {
   "cell_type": "code",
   "execution_count": null,
   "metadata": {
    "collapsed": true
   },
   "outputs": [],
   "source": []
  }
 ],
 "metadata": {
  "kernelspec": {
   "display_name": "Python 3",
   "language": "python",
   "name": "python3"
  },
  "language_info": {
   "codemirror_mode": {
    "name": "ipython",
    "version": 3
   },
   "file_extension": ".py",
   "mimetype": "text/x-python",
   "name": "python",
   "nbconvert_exporter": "python",
   "pygments_lexer": "ipython3",
   "version": "3.6.1"
  }
 },
 "nbformat": 4,
 "nbformat_minor": 2
}
