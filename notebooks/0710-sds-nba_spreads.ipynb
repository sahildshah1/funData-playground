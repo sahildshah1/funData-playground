{
 "cells": [
  {
   "cell_type": "markdown",
   "metadata": {},
   "source": [
    "## NBA Spreads "
   ]
  },
  {
   "cell_type": "markdown",
   "metadata": {},
   "source": [
    "Author: Sahil Shah \n",
    "\n",
    "Description: \n",
    "\n",
    "Explore Against the Spread data from the 2017-2017 NBA season from Vegas Insider: \n",
    "\n",
    "Source: http://www.vegasinsider.com/nba/against-the-spread/\n"
   ]
  },
  {
   "cell_type": "code",
   "execution_count": null,
   "metadata": {
    "collapsed": true
   },
   "outputs": [],
   "source": []
  },
  {
   "cell_type": "code",
   "execution_count": null,
   "metadata": {
    "collapsed": true
   },
   "outputs": [],
   "source": []
  },
  {
   "cell_type": "markdown",
   "metadata": {},
   "source": [
    "### Obtain the data "
   ]
  },
  {
   "cell_type": "markdown",
   "metadata": {},
   "source": [
    "Obtain and scrub the data with pandas \n",
    "\n",
    "Notes: \n",
    "\n",
    "- Strings are known as 'object's in pandas \n",
    "(http://chris.friedline.net/2015-12-15-rutgers/lessons/python2/03-data-types-and-format.html)\n"
   ]
  },
  {
   "cell_type": "code",
   "execution_count": 1,
   "metadata": {},
   "outputs": [
    {
     "name": "stderr",
     "output_type": "stream",
     "text": [
      "/Users/sds930/anaconda/lib/python3.6/importlib/_bootstrap.py:205: RuntimeWarning: numpy.dtype size changed, may indicate binary incompatibility. Expected 96, got 88\n",
      "  return f(*args, **kwds)\n",
      "/Users/sds930/anaconda/lib/python3.6/importlib/_bootstrap.py:205: RuntimeWarning: numpy.dtype size changed, may indicate binary incompatibility. Expected 96, got 88\n",
      "  return f(*args, **kwds)\n"
     ]
    }
   ],
   "source": [
    "import pandas as pd"
   ]
  },
  {
   "cell_type": "code",
   "execution_count": 2,
   "metadata": {
    "collapsed": true
   },
   "outputs": [],
   "source": [
    "raw_dataframe = pd.read_csv(\"../data/nba-against-the-spread.csv\")"
   ]
  },
  {
   "cell_type": "code",
   "execution_count": 4,
   "metadata": {},
   "outputs": [
    {
     "data": {
      "text/html": [
       "<div>\n",
       "<style scoped>\n",
       "    .dataframe tbody tr th:only-of-type {\n",
       "        vertical-align: middle;\n",
       "    }\n",
       "\n",
       "    .dataframe tbody tr th {\n",
       "        vertical-align: top;\n",
       "    }\n",
       "\n",
       "    .dataframe thead th {\n",
       "        text-align: right;\n",
       "    }\n",
       "</style>\n",
       "<table border=\"1\" class=\"dataframe\">\n",
       "  <thead>\n",
       "    <tr style=\"text-align: right;\">\n",
       "      <th></th>\n",
       "      <th>Unnamed: 0</th>\n",
       "      <th>Straight-Up</th>\n",
       "      <th>Unnamed: 2</th>\n",
       "      <th>Unnamed: 3</th>\n",
       "      <th>Against The Spread</th>\n",
       "      <th>Unnamed: 5</th>\n",
       "      <th>Unnamed: 6</th>\n",
       "      <th>Over/Under</th>\n",
       "      <th>Unnamed: 8</th>\n",
       "      <th>Unnamed: 9</th>\n",
       "    </tr>\n",
       "  </thead>\n",
       "  <tbody>\n",
       "    <tr>\n",
       "      <th>0</th>\n",
       "      <td>Team</td>\n",
       "      <td>Total</td>\n",
       "      <td>Home</td>\n",
       "      <td>Away</td>\n",
       "      <td>Total</td>\n",
       "      <td>Home</td>\n",
       "      <td>Away</td>\n",
       "      <td>Total</td>\n",
       "      <td>Home</td>\n",
       "      <td>Away</td>\n",
       "    </tr>\n",
       "    <tr>\n",
       "      <th>1</th>\n",
       "      <td>Atlanta Hawks</td>\n",
       "      <td>24-58-0</td>\n",
       "      <td>16-25-0</td>\n",
       "      <td>8-33-0</td>\n",
       "      <td>40-39-3</td>\n",
       "      <td>20-21-0</td>\n",
       "      <td>20-18-3</td>\n",
       "      <td>37-44-1</td>\n",
       "      <td>21-20-0</td>\n",
       "      <td>16-24-1</td>\n",
       "    </tr>\n",
       "    <tr>\n",
       "      <th>2</th>\n",
       "      <td>Boston Celtics</td>\n",
       "      <td>55-27-0</td>\n",
       "      <td>27-14-0</td>\n",
       "      <td>28-13-0</td>\n",
       "      <td>50-30-2</td>\n",
       "      <td>22-17-2</td>\n",
       "      <td>28-13-0</td>\n",
       "      <td>42-38-2</td>\n",
       "      <td>23-18-0</td>\n",
       "      <td>19-20-2</td>\n",
       "    </tr>\n",
       "    <tr>\n",
       "      <th>3</th>\n",
       "      <td>Brooklyn Nets</td>\n",
       "      <td>28-54-0</td>\n",
       "      <td>15-26-0</td>\n",
       "      <td>13-28-0</td>\n",
       "      <td>46-34-2</td>\n",
       "      <td>19-20-2</td>\n",
       "      <td>27-14-0</td>\n",
       "      <td>37-44-1</td>\n",
       "      <td>16-25-0</td>\n",
       "      <td>21-19-1</td>\n",
       "    </tr>\n",
       "    <tr>\n",
       "      <th>4</th>\n",
       "      <td>Charlotte Hornets</td>\n",
       "      <td>36-46-0</td>\n",
       "      <td>21-20-0</td>\n",
       "      <td>15-26-0</td>\n",
       "      <td>34-44-4</td>\n",
       "      <td>18-23-0</td>\n",
       "      <td>16-21-4</td>\n",
       "      <td>41-39-2</td>\n",
       "      <td>22-18-1</td>\n",
       "      <td>19-21-1</td>\n",
       "    </tr>\n",
       "    <tr>\n",
       "      <th>5</th>\n",
       "      <td>Chicago Bulls</td>\n",
       "      <td>27-55-0</td>\n",
       "      <td>17-24-0</td>\n",
       "      <td>10-31-2000</td>\n",
       "      <td>41-39-2</td>\n",
       "      <td>22-18-1</td>\n",
       "      <td>19-21-1</td>\n",
       "      <td>44-38-0</td>\n",
       "      <td>20-21-0</td>\n",
       "      <td>24-17-0</td>\n",
       "    </tr>\n",
       "    <tr>\n",
       "      <th>6</th>\n",
       "      <td>Cleveland Cavaliers</td>\n",
       "      <td>50-32-0</td>\n",
       "      <td>29-12-0</td>\n",
       "      <td>21-20-0</td>\n",
       "      <td>30-49-3</td>\n",
       "      <td>12-27-2002</td>\n",
       "      <td>18-22-1</td>\n",
       "      <td>40-40-2</td>\n",
       "      <td>18-21-2</td>\n",
       "      <td>22-19-0</td>\n",
       "    </tr>\n",
       "    <tr>\n",
       "      <th>7</th>\n",
       "      <td>Dallas Mavericks</td>\n",
       "      <td>24-58-0</td>\n",
       "      <td>15-26-0</td>\n",
       "      <td>9-32-0</td>\n",
       "      <td>41-39-2</td>\n",
       "      <td>20-21-0</td>\n",
       "      <td>21-18-2</td>\n",
       "      <td>38-44-0</td>\n",
       "      <td>19-22-0</td>\n",
       "      <td>19-22-0</td>\n",
       "    </tr>\n",
       "    <tr>\n",
       "      <th>8</th>\n",
       "      <td>Denver Nuggets</td>\n",
       "      <td>46-36-0</td>\n",
       "      <td>31-10-0</td>\n",
       "      <td>15-26-0</td>\n",
       "      <td>37-42-3</td>\n",
       "      <td>20-20-1</td>\n",
       "      <td>17-22-2</td>\n",
       "      <td>42-39-1</td>\n",
       "      <td>20-21-0</td>\n",
       "      <td>22-18-1</td>\n",
       "    </tr>\n",
       "    <tr>\n",
       "      <th>9</th>\n",
       "      <td>Detroit Pistons</td>\n",
       "      <td>39-43-0</td>\n",
       "      <td>25-16-0</td>\n",
       "      <td>14-27-0</td>\n",
       "      <td>39-40-3</td>\n",
       "      <td>18-21-2</td>\n",
       "      <td>21-19-1</td>\n",
       "      <td>34-45-3</td>\n",
       "      <td>20-20-1</td>\n",
       "      <td>14-25-2</td>\n",
       "    </tr>\n",
       "    <tr>\n",
       "      <th>10</th>\n",
       "      <td>Golden State Warriors</td>\n",
       "      <td>58-24-0</td>\n",
       "      <td>29-12-0</td>\n",
       "      <td>29-12-0</td>\n",
       "      <td>34-47-1</td>\n",
       "      <td>16-24-1</td>\n",
       "      <td>18-23-0</td>\n",
       "      <td>40-42-0</td>\n",
       "      <td>20-21-0</td>\n",
       "      <td>20-21-0</td>\n",
       "    </tr>\n",
       "    <tr>\n",
       "      <th>11</th>\n",
       "      <td>Houston Rockets</td>\n",
       "      <td>65-17-0</td>\n",
       "      <td>34-7-0</td>\n",
       "      <td>31-10-0</td>\n",
       "      <td>41-39-2</td>\n",
       "      <td>17-23-1</td>\n",
       "      <td>24-16-1</td>\n",
       "      <td>33-48-1</td>\n",
       "      <td>19-22-0</td>\n",
       "      <td>14-26-1</td>\n",
       "    </tr>\n",
       "    <tr>\n",
       "      <th>12</th>\n",
       "      <td>Indiana Pacers</td>\n",
       "      <td>48-34-0</td>\n",
       "      <td>27-14-0</td>\n",
       "      <td>21-20-0</td>\n",
       "      <td>47-35-0</td>\n",
       "      <td>24-17-0</td>\n",
       "      <td>23-18-0</td>\n",
       "      <td>31-48-3</td>\n",
       "      <td>15-24-2</td>\n",
       "      <td>16-24-1</td>\n",
       "    </tr>\n",
       "    <tr>\n",
       "      <th>13</th>\n",
       "      <td>Los Angeles Clippers</td>\n",
       "      <td>42-40-0</td>\n",
       "      <td>22-19-0</td>\n",
       "      <td>20-21-0</td>\n",
       "      <td>42-40-0</td>\n",
       "      <td>18-23-0</td>\n",
       "      <td>24-17-0</td>\n",
       "      <td>44-37-1</td>\n",
       "      <td>24-16-1</td>\n",
       "      <td>20-21-0</td>\n",
       "    </tr>\n",
       "    <tr>\n",
       "      <th>14</th>\n",
       "      <td>Los Angeles Lakers</td>\n",
       "      <td>35-47-0</td>\n",
       "      <td>20-21-0</td>\n",
       "      <td>15-26-0</td>\n",
       "      <td>43-39-0</td>\n",
       "      <td>22-19-0</td>\n",
       "      <td>21-20-0</td>\n",
       "      <td>43-38-1</td>\n",
       "      <td>20-21-0</td>\n",
       "      <td>23-17-1</td>\n",
       "    </tr>\n",
       "    <tr>\n",
       "      <th>15</th>\n",
       "      <td>Memphis Grizzlies</td>\n",
       "      <td>22-60-0</td>\n",
       "      <td>16-25-0</td>\n",
       "      <td>6-35-0</td>\n",
       "      <td>36-43-3</td>\n",
       "      <td>19-22-0</td>\n",
       "      <td>17-21-3</td>\n",
       "      <td>38-43-1</td>\n",
       "      <td>15-25-1</td>\n",
       "      <td>23-18-0</td>\n",
       "    </tr>\n",
       "    <tr>\n",
       "      <th>16</th>\n",
       "      <td>Miami Heat</td>\n",
       "      <td>44-38-0</td>\n",
       "      <td>26-15-0</td>\n",
       "      <td>18-23-0</td>\n",
       "      <td>40-36-6</td>\n",
       "      <td>16-21-4</td>\n",
       "      <td>24-15-2</td>\n",
       "      <td>37-42-3</td>\n",
       "      <td>18-21-2</td>\n",
       "      <td>19-21-1</td>\n",
       "    </tr>\n",
       "    <tr>\n",
       "      <th>17</th>\n",
       "      <td>Milwaukee Bucks</td>\n",
       "      <td>44-38-0</td>\n",
       "      <td>25-16-0</td>\n",
       "      <td>19-22-0</td>\n",
       "      <td>34-43-5</td>\n",
       "      <td>12-25-2004</td>\n",
       "      <td>22-18-1</td>\n",
       "      <td>46-35-1</td>\n",
       "      <td>22-19-0</td>\n",
       "      <td>24-16-1</td>\n",
       "    </tr>\n",
       "    <tr>\n",
       "      <th>18</th>\n",
       "      <td>Minnesota Timberwolves</td>\n",
       "      <td>47-35-0</td>\n",
       "      <td>30-11-0</td>\n",
       "      <td>17-24-0</td>\n",
       "      <td>37-42-3</td>\n",
       "      <td>20-19-2</td>\n",
       "      <td>17-23-1</td>\n",
       "      <td>45-36-1</td>\n",
       "      <td>24-16-1</td>\n",
       "      <td>21-20-0</td>\n",
       "    </tr>\n",
       "    <tr>\n",
       "      <th>19</th>\n",
       "      <td>New Orleans Pelicans</td>\n",
       "      <td>48-34-0</td>\n",
       "      <td>24-17-0</td>\n",
       "      <td>24-17-0</td>\n",
       "      <td>46-35-1</td>\n",
       "      <td>20-21-0</td>\n",
       "      <td>26-14-1</td>\n",
       "      <td>47-35-0</td>\n",
       "      <td>27-14-0</td>\n",
       "      <td>20-21-0</td>\n",
       "    </tr>\n",
       "    <tr>\n",
       "      <th>20</th>\n",
       "      <td>New York Knicks</td>\n",
       "      <td>29-53-0</td>\n",
       "      <td>19-22-0</td>\n",
       "      <td>10-31-2000</td>\n",
       "      <td>38-44-0</td>\n",
       "      <td>21-20-0</td>\n",
       "      <td>17-24-0</td>\n",
       "      <td>42-38-2</td>\n",
       "      <td>22-19-0</td>\n",
       "      <td>20-19-2</td>\n",
       "    </tr>\n",
       "    <tr>\n",
       "      <th>21</th>\n",
       "      <td>Oklahoma City Thunder</td>\n",
       "      <td>48-34-0</td>\n",
       "      <td>27-14-0</td>\n",
       "      <td>21-20-0</td>\n",
       "      <td>32-47-3</td>\n",
       "      <td>15-24-2</td>\n",
       "      <td>17-23-1</td>\n",
       "      <td>36-46-0</td>\n",
       "      <td>18-23-0</td>\n",
       "      <td>18-23-0</td>\n",
       "    </tr>\n",
       "    <tr>\n",
       "      <th>22</th>\n",
       "      <td>Orlando Magic</td>\n",
       "      <td>25-57-0</td>\n",
       "      <td>17-24-0</td>\n",
       "      <td>8-33-0</td>\n",
       "      <td>37-43-2</td>\n",
       "      <td>16-24-1</td>\n",
       "      <td>21-19-1</td>\n",
       "      <td>34-48-0</td>\n",
       "      <td>16-25-0</td>\n",
       "      <td>18-23-0</td>\n",
       "    </tr>\n",
       "    <tr>\n",
       "      <th>23</th>\n",
       "      <td>Philadelphia 76ers</td>\n",
       "      <td>52-30-0</td>\n",
       "      <td>30-11-0</td>\n",
       "      <td>22-19-0</td>\n",
       "      <td>47-34-1</td>\n",
       "      <td>27-14-0</td>\n",
       "      <td>20-20-1</td>\n",
       "      <td>41-40-1</td>\n",
       "      <td>19-21-1</td>\n",
       "      <td>22-19-0</td>\n",
       "    </tr>\n",
       "    <tr>\n",
       "      <th>24</th>\n",
       "      <td>Phoenix Suns</td>\n",
       "      <td>21-61-0</td>\n",
       "      <td>10-31-2000</td>\n",
       "      <td>11-30-2000</td>\n",
       "      <td>37-42-3</td>\n",
       "      <td>14-25-2</td>\n",
       "      <td>23-17-1</td>\n",
       "      <td>39-43-0</td>\n",
       "      <td>20-21-0</td>\n",
       "      <td>19-22-0</td>\n",
       "    </tr>\n",
       "    <tr>\n",
       "      <th>25</th>\n",
       "      <td>Portland Trail Blazers</td>\n",
       "      <td>49-33-0</td>\n",
       "      <td>28-13-0</td>\n",
       "      <td>21-20-0</td>\n",
       "      <td>44-33-5</td>\n",
       "      <td>22-16-3</td>\n",
       "      <td>22-17-2</td>\n",
       "      <td>35-47-0</td>\n",
       "      <td>18-23-0</td>\n",
       "      <td>17-24-0</td>\n",
       "    </tr>\n",
       "    <tr>\n",
       "      <th>26</th>\n",
       "      <td>Sacramento Kings</td>\n",
       "      <td>27-55-0</td>\n",
       "      <td>14-27-0</td>\n",
       "      <td>13-28-0</td>\n",
       "      <td>38-40-4</td>\n",
       "      <td>18-22-1</td>\n",
       "      <td>20-18-3</td>\n",
       "      <td>39-42-1</td>\n",
       "      <td>19-21-1</td>\n",
       "      <td>20-21-0</td>\n",
       "    </tr>\n",
       "    <tr>\n",
       "      <th>27</th>\n",
       "      <td>San Antonio Spurs</td>\n",
       "      <td>47-35-0</td>\n",
       "      <td>33-8-0</td>\n",
       "      <td>14-27-0</td>\n",
       "      <td>42-38-2</td>\n",
       "      <td>26-14-1</td>\n",
       "      <td>16-24-1</td>\n",
       "      <td>38-44-0</td>\n",
       "      <td>20-21-0</td>\n",
       "      <td>18-23-0</td>\n",
       "    </tr>\n",
       "    <tr>\n",
       "      <th>28</th>\n",
       "      <td>Toronto Raptors</td>\n",
       "      <td>59-23-0</td>\n",
       "      <td>34-7-0</td>\n",
       "      <td>25-16-0</td>\n",
       "      <td>43-38-1</td>\n",
       "      <td>21-19-1</td>\n",
       "      <td>22-19-0</td>\n",
       "      <td>41-40-1</td>\n",
       "      <td>19-21-1</td>\n",
       "      <td>22-19-0</td>\n",
       "    </tr>\n",
       "    <tr>\n",
       "      <th>29</th>\n",
       "      <td>Utah Jazz</td>\n",
       "      <td>48-34-0</td>\n",
       "      <td>28-13-0</td>\n",
       "      <td>20-21-0</td>\n",
       "      <td>43-38-1</td>\n",
       "      <td>22-19-0</td>\n",
       "      <td>21-19-1</td>\n",
       "      <td>39-42-1</td>\n",
       "      <td>16-25-0</td>\n",
       "      <td>23-17-1</td>\n",
       "    </tr>\n",
       "    <tr>\n",
       "      <th>30</th>\n",
       "      <td>Washington Wizards</td>\n",
       "      <td>43-39-0</td>\n",
       "      <td>23-18-0</td>\n",
       "      <td>20-21-0</td>\n",
       "      <td>37-44-1</td>\n",
       "      <td>16-24-1</td>\n",
       "      <td>21-20-0</td>\n",
       "      <td>37-43-2</td>\n",
       "      <td>20-19-2</td>\n",
       "      <td>17-24-0</td>\n",
       "    </tr>\n",
       "  </tbody>\n",
       "</table>\n",
       "</div>"
      ],
      "text/plain": [
       "                Unnamed: 0 Straight-Up  Unnamed: 2  Unnamed: 3  \\\n",
       "0                     Team       Total        Home        Away   \n",
       "1            Atlanta Hawks     24-58-0     16-25-0      8-33-0   \n",
       "2           Boston Celtics     55-27-0     27-14-0     28-13-0   \n",
       "3            Brooklyn Nets     28-54-0     15-26-0     13-28-0   \n",
       "4        Charlotte Hornets     36-46-0     21-20-0     15-26-0   \n",
       "5            Chicago Bulls     27-55-0     17-24-0  10-31-2000   \n",
       "6      Cleveland Cavaliers     50-32-0     29-12-0     21-20-0   \n",
       "7         Dallas Mavericks     24-58-0     15-26-0      9-32-0   \n",
       "8           Denver Nuggets     46-36-0     31-10-0     15-26-0   \n",
       "9          Detroit Pistons     39-43-0     25-16-0     14-27-0   \n",
       "10   Golden State Warriors     58-24-0     29-12-0     29-12-0   \n",
       "11         Houston Rockets     65-17-0      34-7-0     31-10-0   \n",
       "12          Indiana Pacers     48-34-0     27-14-0     21-20-0   \n",
       "13    Los Angeles Clippers     42-40-0     22-19-0     20-21-0   \n",
       "14      Los Angeles Lakers     35-47-0     20-21-0     15-26-0   \n",
       "15       Memphis Grizzlies     22-60-0     16-25-0      6-35-0   \n",
       "16              Miami Heat     44-38-0     26-15-0     18-23-0   \n",
       "17         Milwaukee Bucks     44-38-0     25-16-0     19-22-0   \n",
       "18  Minnesota Timberwolves     47-35-0     30-11-0     17-24-0   \n",
       "19    New Orleans Pelicans     48-34-0     24-17-0     24-17-0   \n",
       "20         New York Knicks     29-53-0     19-22-0  10-31-2000   \n",
       "21   Oklahoma City Thunder     48-34-0     27-14-0     21-20-0   \n",
       "22           Orlando Magic     25-57-0     17-24-0      8-33-0   \n",
       "23      Philadelphia 76ers     52-30-0     30-11-0     22-19-0   \n",
       "24            Phoenix Suns     21-61-0  10-31-2000  11-30-2000   \n",
       "25  Portland Trail Blazers     49-33-0     28-13-0     21-20-0   \n",
       "26        Sacramento Kings     27-55-0     14-27-0     13-28-0   \n",
       "27       San Antonio Spurs     47-35-0      33-8-0     14-27-0   \n",
       "28         Toronto Raptors     59-23-0      34-7-0     25-16-0   \n",
       "29               Utah Jazz     48-34-0     28-13-0     20-21-0   \n",
       "30      Washington Wizards     43-39-0     23-18-0     20-21-0   \n",
       "\n",
       "   Against The Spread  Unnamed: 5 Unnamed: 6 Over/Under Unnamed: 8 Unnamed: 9  \n",
       "0               Total        Home       Away      Total       Home       Away  \n",
       "1             40-39-3     20-21-0    20-18-3    37-44-1    21-20-0    16-24-1  \n",
       "2             50-30-2     22-17-2    28-13-0    42-38-2    23-18-0    19-20-2  \n",
       "3             46-34-2     19-20-2    27-14-0    37-44-1    16-25-0    21-19-1  \n",
       "4             34-44-4     18-23-0    16-21-4    41-39-2    22-18-1    19-21-1  \n",
       "5             41-39-2     22-18-1    19-21-1    44-38-0    20-21-0    24-17-0  \n",
       "6             30-49-3  12-27-2002    18-22-1    40-40-2    18-21-2    22-19-0  \n",
       "7             41-39-2     20-21-0    21-18-2    38-44-0    19-22-0    19-22-0  \n",
       "8             37-42-3     20-20-1    17-22-2    42-39-1    20-21-0    22-18-1  \n",
       "9             39-40-3     18-21-2    21-19-1    34-45-3    20-20-1    14-25-2  \n",
       "10            34-47-1     16-24-1    18-23-0    40-42-0    20-21-0    20-21-0  \n",
       "11            41-39-2     17-23-1    24-16-1    33-48-1    19-22-0    14-26-1  \n",
       "12            47-35-0     24-17-0    23-18-0    31-48-3    15-24-2    16-24-1  \n",
       "13            42-40-0     18-23-0    24-17-0    44-37-1    24-16-1    20-21-0  \n",
       "14            43-39-0     22-19-0    21-20-0    43-38-1    20-21-0    23-17-1  \n",
       "15            36-43-3     19-22-0    17-21-3    38-43-1    15-25-1    23-18-0  \n",
       "16            40-36-6     16-21-4    24-15-2    37-42-3    18-21-2    19-21-1  \n",
       "17            34-43-5  12-25-2004    22-18-1    46-35-1    22-19-0    24-16-1  \n",
       "18            37-42-3     20-19-2    17-23-1    45-36-1    24-16-1    21-20-0  \n",
       "19            46-35-1     20-21-0    26-14-1    47-35-0    27-14-0    20-21-0  \n",
       "20            38-44-0     21-20-0    17-24-0    42-38-2    22-19-0    20-19-2  \n",
       "21            32-47-3     15-24-2    17-23-1    36-46-0    18-23-0    18-23-0  \n",
       "22            37-43-2     16-24-1    21-19-1    34-48-0    16-25-0    18-23-0  \n",
       "23            47-34-1     27-14-0    20-20-1    41-40-1    19-21-1    22-19-0  \n",
       "24            37-42-3     14-25-2    23-17-1    39-43-0    20-21-0    19-22-0  \n",
       "25            44-33-5     22-16-3    22-17-2    35-47-0    18-23-0    17-24-0  \n",
       "26            38-40-4     18-22-1    20-18-3    39-42-1    19-21-1    20-21-0  \n",
       "27            42-38-2     26-14-1    16-24-1    38-44-0    20-21-0    18-23-0  \n",
       "28            43-38-1     21-19-1    22-19-0    41-40-1    19-21-1    22-19-0  \n",
       "29            43-38-1     22-19-0    21-19-1    39-42-1    16-25-0    23-17-1  \n",
       "30            37-44-1     16-24-1    21-20-0    37-43-2    20-19-2    17-24-0  "
      ]
     },
     "execution_count": 4,
     "metadata": {},
     "output_type": "execute_result"
    }
   ],
   "source": [
    "raw_dataframe"
   ]
  },
  {
   "cell_type": "code",
   "execution_count": 4,
   "metadata": {},
   "outputs": [
    {
     "name": "stdout",
     "output_type": "stream",
     "text": [
      "<class 'pandas.core.frame.DataFrame'>\n",
      "RangeIndex: 31 entries, 0 to 30\n",
      "Data columns (total 10 columns):\n",
      "Unnamed: 0            31 non-null object\n",
      "Straight-Up           31 non-null object\n",
      "Unnamed: 2            31 non-null object\n",
      "Unnamed: 3            31 non-null object\n",
      "Against The Spread    31 non-null object\n",
      "Unnamed: 5            31 non-null object\n",
      "Unnamed: 6            31 non-null object\n",
      "Over/Under            31 non-null object\n",
      "Unnamed: 8            31 non-null object\n",
      "Unnamed: 9            31 non-null object\n",
      "dtypes: object(10)\n",
      "memory usage: 2.5+ KB\n"
     ]
    }
   ],
   "source": [
    "raw_dataframe.info()"
   ]
  },
  {
   "cell_type": "markdown",
   "metadata": {},
   "source": []
  },
  {
   "cell_type": "code",
   "execution_count": 5,
   "metadata": {},
   "outputs": [
    {
     "data": {
      "text/html": [
       "<div>\n",
       "<style>\n",
       "    .dataframe thead tr:only-child th {\n",
       "        text-align: right;\n",
       "    }\n",
       "\n",
       "    .dataframe thead th {\n",
       "        text-align: left;\n",
       "    }\n",
       "\n",
       "    .dataframe tbody tr th {\n",
       "        vertical-align: top;\n",
       "    }\n",
       "</style>\n",
       "<table border=\"1\" class=\"dataframe\">\n",
       "  <thead>\n",
       "    <tr style=\"text-align: right;\">\n",
       "      <th></th>\n",
       "      <th>Unnamed: 0</th>\n",
       "      <th>Straight-Up</th>\n",
       "      <th>Unnamed: 2</th>\n",
       "      <th>Unnamed: 3</th>\n",
       "      <th>Against The Spread</th>\n",
       "      <th>Unnamed: 5</th>\n",
       "      <th>Unnamed: 6</th>\n",
       "      <th>Over/Under</th>\n",
       "      <th>Unnamed: 8</th>\n",
       "      <th>Unnamed: 9</th>\n",
       "    </tr>\n",
       "  </thead>\n",
       "  <tbody>\n",
       "    <tr>\n",
       "      <th>count</th>\n",
       "      <td>31</td>\n",
       "      <td>31</td>\n",
       "      <td>31</td>\n",
       "      <td>31</td>\n",
       "      <td>31</td>\n",
       "      <td>31</td>\n",
       "      <td>31</td>\n",
       "      <td>31</td>\n",
       "      <td>31</td>\n",
       "      <td>31</td>\n",
       "    </tr>\n",
       "    <tr>\n",
       "      <th>unique</th>\n",
       "      <td>31</td>\n",
       "      <td>24</td>\n",
       "      <td>21</td>\n",
       "      <td>20</td>\n",
       "      <td>26</td>\n",
       "      <td>25</td>\n",
       "      <td>26</td>\n",
       "      <td>26</td>\n",
       "      <td>17</td>\n",
       "      <td>19</td>\n",
       "    </tr>\n",
       "    <tr>\n",
       "      <th>top</th>\n",
       "      <td>Team</td>\n",
       "      <td>48-34-0</td>\n",
       "      <td>27-14-0</td>\n",
       "      <td>21-20-0</td>\n",
       "      <td>37-42-3</td>\n",
       "      <td>20-21-0</td>\n",
       "      <td>21-19-1</td>\n",
       "      <td>42-38-2</td>\n",
       "      <td>20-21-0</td>\n",
       "      <td>20-21-0</td>\n",
       "    </tr>\n",
       "    <tr>\n",
       "      <th>freq</th>\n",
       "      <td>1</td>\n",
       "      <td>4</td>\n",
       "      <td>3</td>\n",
       "      <td>4</td>\n",
       "      <td>3</td>\n",
       "      <td>3</td>\n",
       "      <td>3</td>\n",
       "      <td>2</td>\n",
       "      <td>6</td>\n",
       "      <td>4</td>\n",
       "    </tr>\n",
       "  </tbody>\n",
       "</table>\n",
       "</div>"
      ],
      "text/plain": [
       "       Unnamed: 0 Straight-Up Unnamed: 2 Unnamed: 3 Against The Spread  \\\n",
       "count          31          31         31         31                 31   \n",
       "unique         31          24         21         20                 26   \n",
       "top          Team     48-34-0    27-14-0    21-20-0            37-42-3   \n",
       "freq            1           4          3          4                  3   \n",
       "\n",
       "       Unnamed: 5 Unnamed: 6 Over/Under Unnamed: 8 Unnamed: 9  \n",
       "count          31         31         31         31         31  \n",
       "unique         25         26         26         17         19  \n",
       "top       20-21-0    21-19-1    42-38-2    20-21-0    20-21-0  \n",
       "freq            3          3          2          6          4  "
      ]
     },
     "execution_count": 5,
     "metadata": {},
     "output_type": "execute_result"
    }
   ],
   "source": [
    "raw_dataframe.describe()"
   ]
  },
  {
   "cell_type": "code",
   "execution_count": 7,
   "metadata": {},
   "outputs": [
    {
     "data": {
      "text/plain": [
       "(31, 10)"
      ]
     },
     "execution_count": 7,
     "metadata": {},
     "output_type": "execute_result"
    }
   ],
   "source": [
    "raw_dataframe.shape"
   ]
  },
  {
   "cell_type": "markdown",
   "metadata": {},
   "source": [
    "### Scrub the data "
   ]
  },
  {
   "cell_type": "markdown",
   "metadata": {},
   "source": [
    "#### Split columns by delimiter "
   ]
  },
  {
   "cell_type": "markdown",
   "metadata": {},
   "source": [
    "- str.split() can split Series by delimiter\n",
    "- df[] indexes rows --> Selecting columns by position use the iloc function (https://pandas.pydata.org/pandas-docs/stable/10min.html)\n",
    "\n",
    "- Python indexing is not inculsive?\n",
    "(https://medium.com/dunder-data/selecting-subsets-of-data-in-pandas-6fcd0170be9c)\n",
    "\n",
    "- str.split works on Series (i.e. each column of the data frame) so loop over columns and concat b/c split apply combine group by or apply function's didn't work and there's only 9 columns\n"
   ]
  },
  {
   "cell_type": "markdown",
   "metadata": {},
   "source": [
    " Build scrubbed_dataframe by looping over each column, splitting strings, \n",
    " and then casting to numeric type, renaming column names etc and save to a file to load \n",
    " and analzye "
   ]
  },
  {
   "cell_type": "code",
   "execution_count": 3,
   "metadata": {
    "collapsed": true
   },
   "outputs": [],
   "source": [
    "# str.split works on Series (i.e. each column of the data frame) so loop over columns and concat\n",
    "# b/c split apply combine group by or apply function's didn't work and there's only 9 columns\n",
    "\n",
    "scrubbed_dataframe = raw_dataframe.iloc[:,0] # initalize scrubbed data frame \n",
    "\n",
    "for column_position in list(range(1,10)):\n",
    "\n",
    "    scrubbed_dataframe = pd.concat([scrubbed_dataframe,\n",
    "                                    raw_dataframe.iloc[:,column_position].str.split('-', expand = True)], \n",
    "                                    axis=1)"
   ]
  },
  {
   "cell_type": "code",
   "execution_count": 108,
   "metadata": {},
   "outputs": [
    {
     "name": "stdout",
     "output_type": "stream",
     "text": [
      "<class 'pandas.core.frame.DataFrame'>\n",
      "RangeIndex: 31 entries, 0 to 30\n",
      "Data columns (total 28 columns):\n",
      "Unnamed: 0    31 non-null object\n",
      "0             31 non-null object\n",
      "1             30 non-null object\n",
      "2             30 non-null object\n",
      "0             31 non-null object\n",
      "1             30 non-null object\n",
      "2             30 non-null object\n",
      "0             31 non-null object\n",
      "1             30 non-null object\n",
      "2             30 non-null object\n",
      "0             31 non-null object\n",
      "1             30 non-null object\n",
      "2             30 non-null object\n",
      "0             31 non-null object\n",
      "1             30 non-null object\n",
      "2             30 non-null object\n",
      "0             31 non-null object\n",
      "1             30 non-null object\n",
      "2             30 non-null object\n",
      "0             31 non-null object\n",
      "1             30 non-null object\n",
      "2             30 non-null object\n",
      "0             31 non-null object\n",
      "1             30 non-null object\n",
      "2             30 non-null object\n",
      "0             31 non-null object\n",
      "1             30 non-null object\n",
      "2             30 non-null object\n",
      "dtypes: object(28)\n",
      "memory usage: 6.9+ KB\n"
     ]
    }
   ],
   "source": [
    "scrubbed_dataframe.info()"
   ]
  },
  {
   "cell_type": "code",
   "execution_count": 6,
   "metadata": {},
   "outputs": [
    {
     "data": {
      "text/html": [
       "<div>\n",
       "<style>\n",
       "    .dataframe thead tr:only-child th {\n",
       "        text-align: right;\n",
       "    }\n",
       "\n",
       "    .dataframe thead th {\n",
       "        text-align: left;\n",
       "    }\n",
       "\n",
       "    .dataframe tbody tr th {\n",
       "        vertical-align: top;\n",
       "    }\n",
       "</style>\n",
       "<table border=\"1\" class=\"dataframe\">\n",
       "  <thead>\n",
       "    <tr style=\"text-align: right;\">\n",
       "      <th></th>\n",
       "      <th>Unnamed: 0</th>\n",
       "      <th>0</th>\n",
       "      <th>1</th>\n",
       "      <th>2</th>\n",
       "      <th>0</th>\n",
       "      <th>1</th>\n",
       "      <th>2</th>\n",
       "      <th>0</th>\n",
       "      <th>1</th>\n",
       "      <th>2</th>\n",
       "      <th>...</th>\n",
       "      <th>2</th>\n",
       "      <th>0</th>\n",
       "      <th>1</th>\n",
       "      <th>2</th>\n",
       "      <th>0</th>\n",
       "      <th>1</th>\n",
       "      <th>2</th>\n",
       "      <th>0</th>\n",
       "      <th>1</th>\n",
       "      <th>2</th>\n",
       "    </tr>\n",
       "  </thead>\n",
       "  <tbody>\n",
       "    <tr>\n",
       "      <th>0</th>\n",
       "      <td>Team</td>\n",
       "      <td>Total</td>\n",
       "      <td>None</td>\n",
       "      <td>None</td>\n",
       "      <td>Home</td>\n",
       "      <td>None</td>\n",
       "      <td>None</td>\n",
       "      <td>Away</td>\n",
       "      <td>None</td>\n",
       "      <td>None</td>\n",
       "      <td>...</td>\n",
       "      <td>None</td>\n",
       "      <td>Total</td>\n",
       "      <td>None</td>\n",
       "      <td>None</td>\n",
       "      <td>Home</td>\n",
       "      <td>None</td>\n",
       "      <td>None</td>\n",
       "      <td>Away</td>\n",
       "      <td>None</td>\n",
       "      <td>None</td>\n",
       "    </tr>\n",
       "    <tr>\n",
       "      <th>1</th>\n",
       "      <td>Atlanta Hawks</td>\n",
       "      <td>24</td>\n",
       "      <td>58</td>\n",
       "      <td>0</td>\n",
       "      <td>16</td>\n",
       "      <td>25</td>\n",
       "      <td>0</td>\n",
       "      <td>8</td>\n",
       "      <td>33</td>\n",
       "      <td>0</td>\n",
       "      <td>...</td>\n",
       "      <td>3</td>\n",
       "      <td>37</td>\n",
       "      <td>44</td>\n",
       "      <td>1</td>\n",
       "      <td>21</td>\n",
       "      <td>20</td>\n",
       "      <td>0</td>\n",
       "      <td>16</td>\n",
       "      <td>24</td>\n",
       "      <td>1</td>\n",
       "    </tr>\n",
       "    <tr>\n",
       "      <th>2</th>\n",
       "      <td>Boston Celtics</td>\n",
       "      <td>55</td>\n",
       "      <td>27</td>\n",
       "      <td>0</td>\n",
       "      <td>27</td>\n",
       "      <td>14</td>\n",
       "      <td>0</td>\n",
       "      <td>28</td>\n",
       "      <td>13</td>\n",
       "      <td>0</td>\n",
       "      <td>...</td>\n",
       "      <td>0</td>\n",
       "      <td>42</td>\n",
       "      <td>38</td>\n",
       "      <td>2</td>\n",
       "      <td>23</td>\n",
       "      <td>18</td>\n",
       "      <td>0</td>\n",
       "      <td>19</td>\n",
       "      <td>20</td>\n",
       "      <td>2</td>\n",
       "    </tr>\n",
       "  </tbody>\n",
       "</table>\n",
       "<p>3 rows × 28 columns</p>\n",
       "</div>"
      ],
      "text/plain": [
       "       Unnamed: 0      0     1     2     0     1     2     0     1     2  \\\n",
       "0            Team  Total  None  None  Home  None  None  Away  None  None   \n",
       "1   Atlanta Hawks     24    58     0    16    25     0     8    33     0   \n",
       "2  Boston Celtics     55    27     0    27    14     0    28    13     0   \n",
       "\n",
       "   ...      2      0     1     2     0     1     2     0     1     2  \n",
       "0  ...   None  Total  None  None  Home  None  None  Away  None  None  \n",
       "1  ...      3     37    44     1    21    20     0    16    24     1  \n",
       "2  ...      0     42    38     2    23    18     0    19    20     2  \n",
       "\n",
       "[3 rows x 28 columns]"
      ]
     },
     "execution_count": 6,
     "metadata": {},
     "output_type": "execute_result"
    }
   ],
   "source": [
    "scrubbed_dataframe.head(3)"
   ]
  },
  {
   "cell_type": "markdown",
   "metadata": {},
   "source": [
    "30 and 31 non-null objects in .info above -->  Different numbers b/c first row has \"None's\""
   ]
  },
  {
   "cell_type": "markdown",
   "metadata": {},
   "source": [
    "#### Drop first row of \"Team Total None None Home\" and name columns "
   ]
  },
  {
   "cell_type": "markdown",
   "metadata": {},
   "source": [
    "NOTES\n",
    "\n",
    "- Drop a row: scrubbed_dataframe.drop(scrubbed_dataframe.index[0])\n",
    "- Rename columns https://erikrood.com/Python_References/rename_columns.html\n",
    "\n",
    "- SUBSET data frame https://medium.com/dunder-data/selecting-subsets-of-data-in-pandas-6fcd0170be9c\n",
    "\n",
    "    -  [] Primary purpose is to select columns by name\n",
    "    - .loc select rows and columsn by name\n",
    "    - .iloc select rows and coluumns by index \n",
    "\n",
    "- https://stackoverflow.com/questions/34844711/convert-entire-pandas-dataframe-to-integers-in-pandas-0-17-0/34844867\n",
    "\n"
   ]
  },
  {
   "cell_type": "code",
   "execution_count": null,
   "metadata": {
    "collapsed": true
   },
   "outputs": [],
   "source": []
  },
  {
   "cell_type": "code",
   "execution_count": 4,
   "metadata": {
    "collapsed": true
   },
   "outputs": [],
   "source": [
    "scrubbed_dataframe = scrubbed_dataframe.drop(scrubbed_dataframe.index[0])"
   ]
  },
  {
   "cell_type": "code",
   "execution_count": 5,
   "metadata": {},
   "outputs": [
    {
     "data": {
      "text/html": [
       "<div>\n",
       "<style scoped>\n",
       "    .dataframe tbody tr th:only-of-type {\n",
       "        vertical-align: middle;\n",
       "    }\n",
       "\n",
       "    .dataframe tbody tr th {\n",
       "        vertical-align: top;\n",
       "    }\n",
       "\n",
       "    .dataframe thead th {\n",
       "        text-align: right;\n",
       "    }\n",
       "</style>\n",
       "<table border=\"1\" class=\"dataframe\">\n",
       "  <thead>\n",
       "    <tr style=\"text-align: right;\">\n",
       "      <th></th>\n",
       "      <th>Unnamed: 0</th>\n",
       "      <th>0</th>\n",
       "      <th>1</th>\n",
       "      <th>2</th>\n",
       "      <th>0</th>\n",
       "      <th>1</th>\n",
       "      <th>2</th>\n",
       "      <th>0</th>\n",
       "      <th>1</th>\n",
       "      <th>2</th>\n",
       "      <th>...</th>\n",
       "      <th>2</th>\n",
       "      <th>0</th>\n",
       "      <th>1</th>\n",
       "      <th>2</th>\n",
       "      <th>0</th>\n",
       "      <th>1</th>\n",
       "      <th>2</th>\n",
       "      <th>0</th>\n",
       "      <th>1</th>\n",
       "      <th>2</th>\n",
       "    </tr>\n",
       "  </thead>\n",
       "  <tbody>\n",
       "    <tr>\n",
       "      <th>1</th>\n",
       "      <td>Atlanta Hawks</td>\n",
       "      <td>24</td>\n",
       "      <td>58</td>\n",
       "      <td>0</td>\n",
       "      <td>16</td>\n",
       "      <td>25</td>\n",
       "      <td>0</td>\n",
       "      <td>8</td>\n",
       "      <td>33</td>\n",
       "      <td>0</td>\n",
       "      <td>...</td>\n",
       "      <td>3</td>\n",
       "      <td>37</td>\n",
       "      <td>44</td>\n",
       "      <td>1</td>\n",
       "      <td>21</td>\n",
       "      <td>20</td>\n",
       "      <td>0</td>\n",
       "      <td>16</td>\n",
       "      <td>24</td>\n",
       "      <td>1</td>\n",
       "    </tr>\n",
       "    <tr>\n",
       "      <th>2</th>\n",
       "      <td>Boston Celtics</td>\n",
       "      <td>55</td>\n",
       "      <td>27</td>\n",
       "      <td>0</td>\n",
       "      <td>27</td>\n",
       "      <td>14</td>\n",
       "      <td>0</td>\n",
       "      <td>28</td>\n",
       "      <td>13</td>\n",
       "      <td>0</td>\n",
       "      <td>...</td>\n",
       "      <td>0</td>\n",
       "      <td>42</td>\n",
       "      <td>38</td>\n",
       "      <td>2</td>\n",
       "      <td>23</td>\n",
       "      <td>18</td>\n",
       "      <td>0</td>\n",
       "      <td>19</td>\n",
       "      <td>20</td>\n",
       "      <td>2</td>\n",
       "    </tr>\n",
       "  </tbody>\n",
       "</table>\n",
       "<p>2 rows × 28 columns</p>\n",
       "</div>"
      ],
      "text/plain": [
       "       Unnamed: 0   0   1  2   0   1  2   0   1  2 ...  2   0   1  2   0   1  \\\n",
       "1   Atlanta Hawks  24  58  0  16  25  0   8  33  0 ...  3  37  44  1  21  20   \n",
       "2  Boston Celtics  55  27  0  27  14  0  28  13  0 ...  0  42  38  2  23  18   \n",
       "\n",
       "   2   0   1  2  \n",
       "1  0  16  24  1  \n",
       "2  0  19  20  2  \n",
       "\n",
       "[2 rows x 28 columns]"
      ]
     },
     "execution_count": 5,
     "metadata": {},
     "output_type": "execute_result"
    }
   ],
   "source": [
    "scrubbed_dataframe.head(2)"
   ]
  },
  {
   "cell_type": "code",
   "execution_count": 6,
   "metadata": {
    "collapsed": true
   },
   "outputs": [],
   "source": [
    "header =                     [\"Team\",\n",
    "                              \"SU_T_W\",\n",
    "                              \"SU_T_L\",\n",
    "                              \"SU_T_D\",\n",
    "                              \"SU_H_W\",\n",
    "                              \"SU_H_L\",\n",
    "                              \"SU_H_D\",\n",
    "                              \"SU_A_W\",\n",
    "                              \"SU_A_L\",\n",
    "                              \"SU_A_D\",\n",
    "                              \"AS_T_W\",\n",
    "                              \"AS_T_L\",\n",
    "                              \"AS_T_D\",\n",
    "                              \"AS_H_W\",\n",
    "                              \"AS_H_L\",\n",
    "                              \"AS_H_D\",\n",
    "                              \"AS_A_W\",\n",
    "                              \"AS_A_L\",\n",
    "                              \"AS_A_D\",\n",
    "                              \"OU_T_W\",\n",
    "                              \"OU_T_L\",\n",
    "                              \"OU_T_D\",\n",
    "                              \"OU_H_W\",\n",
    "                              \"OU_H_L\",\n",
    "                              \"OU_H_D\",\n",
    "                              \"OU_A_W\",\n",
    "                              \"OU_A_L\",\n",
    "                              \"OU_A_D\"]"
   ]
  },
  {
   "cell_type": "code",
   "execution_count": 7,
   "metadata": {},
   "outputs": [
    {
     "data": {
      "text/plain": [
       "28"
      ]
     },
     "execution_count": 7,
     "metadata": {},
     "output_type": "execute_result"
    }
   ],
   "source": [
    "len(header)"
   ]
  },
  {
   "cell_type": "markdown",
   "metadata": {},
   "source": [
    "header length was 27 before I added \"Teams\""
   ]
  },
  {
   "cell_type": "code",
   "execution_count": 8,
   "metadata": {
    "collapsed": true
   },
   "outputs": [],
   "source": [
    "scrubbed_dataframe.columns = header"
   ]
  },
  {
   "cell_type": "code",
   "execution_count": 9,
   "metadata": {},
   "outputs": [
    {
     "name": "stdout",
     "output_type": "stream",
     "text": [
      "<class 'pandas.core.frame.DataFrame'>\n",
      "Int64Index: 30 entries, 1 to 30\n",
      "Data columns (total 28 columns):\n",
      "Team      30 non-null object\n",
      "SU_T_W    30 non-null object\n",
      "SU_T_L    30 non-null object\n",
      "SU_T_D    30 non-null object\n",
      "SU_H_W    30 non-null object\n",
      "SU_H_L    30 non-null object\n",
      "SU_H_D    30 non-null object\n",
      "SU_A_W    30 non-null object\n",
      "SU_A_L    30 non-null object\n",
      "SU_A_D    30 non-null object\n",
      "AS_T_W    30 non-null object\n",
      "AS_T_L    30 non-null object\n",
      "AS_T_D    30 non-null object\n",
      "AS_H_W    30 non-null object\n",
      "AS_H_L    30 non-null object\n",
      "AS_H_D    30 non-null object\n",
      "AS_A_W    30 non-null object\n",
      "AS_A_L    30 non-null object\n",
      "AS_A_D    30 non-null object\n",
      "OU_T_W    30 non-null object\n",
      "OU_T_L    30 non-null object\n",
      "OU_T_D    30 non-null object\n",
      "OU_H_W    30 non-null object\n",
      "OU_H_L    30 non-null object\n",
      "OU_H_D    30 non-null object\n",
      "OU_A_W    30 non-null object\n",
      "OU_A_L    30 non-null object\n",
      "OU_A_D    30 non-null object\n",
      "dtypes: object(28)\n",
      "memory usage: 6.8+ KB\n"
     ]
    }
   ],
   "source": [
    "scrubbed_dataframe.info()"
   ]
  },
  {
   "cell_type": "code",
   "execution_count": 10,
   "metadata": {},
   "outputs": [
    {
     "data": {
      "text/html": [
       "<div>\n",
       "<style scoped>\n",
       "    .dataframe tbody tr th:only-of-type {\n",
       "        vertical-align: middle;\n",
       "    }\n",
       "\n",
       "    .dataframe tbody tr th {\n",
       "        vertical-align: top;\n",
       "    }\n",
       "\n",
       "    .dataframe thead th {\n",
       "        text-align: right;\n",
       "    }\n",
       "</style>\n",
       "<table border=\"1\" class=\"dataframe\">\n",
       "  <thead>\n",
       "    <tr style=\"text-align: right;\">\n",
       "      <th></th>\n",
       "      <th>Team</th>\n",
       "      <th>SU_T_W</th>\n",
       "      <th>SU_T_L</th>\n",
       "      <th>SU_T_D</th>\n",
       "      <th>SU_H_W</th>\n",
       "      <th>SU_H_L</th>\n",
       "      <th>SU_H_D</th>\n",
       "      <th>SU_A_W</th>\n",
       "      <th>SU_A_L</th>\n",
       "      <th>SU_A_D</th>\n",
       "      <th>...</th>\n",
       "      <th>AS_A_D</th>\n",
       "      <th>OU_T_W</th>\n",
       "      <th>OU_T_L</th>\n",
       "      <th>OU_T_D</th>\n",
       "      <th>OU_H_W</th>\n",
       "      <th>OU_H_L</th>\n",
       "      <th>OU_H_D</th>\n",
       "      <th>OU_A_W</th>\n",
       "      <th>OU_A_L</th>\n",
       "      <th>OU_A_D</th>\n",
       "    </tr>\n",
       "  </thead>\n",
       "  <tbody>\n",
       "    <tr>\n",
       "      <th>1</th>\n",
       "      <td>Atlanta Hawks</td>\n",
       "      <td>24</td>\n",
       "      <td>58</td>\n",
       "      <td>0</td>\n",
       "      <td>16</td>\n",
       "      <td>25</td>\n",
       "      <td>0</td>\n",
       "      <td>8</td>\n",
       "      <td>33</td>\n",
       "      <td>0</td>\n",
       "      <td>...</td>\n",
       "      <td>3</td>\n",
       "      <td>37</td>\n",
       "      <td>44</td>\n",
       "      <td>1</td>\n",
       "      <td>21</td>\n",
       "      <td>20</td>\n",
       "      <td>0</td>\n",
       "      <td>16</td>\n",
       "      <td>24</td>\n",
       "      <td>1</td>\n",
       "    </tr>\n",
       "    <tr>\n",
       "      <th>2</th>\n",
       "      <td>Boston Celtics</td>\n",
       "      <td>55</td>\n",
       "      <td>27</td>\n",
       "      <td>0</td>\n",
       "      <td>27</td>\n",
       "      <td>14</td>\n",
       "      <td>0</td>\n",
       "      <td>28</td>\n",
       "      <td>13</td>\n",
       "      <td>0</td>\n",
       "      <td>...</td>\n",
       "      <td>0</td>\n",
       "      <td>42</td>\n",
       "      <td>38</td>\n",
       "      <td>2</td>\n",
       "      <td>23</td>\n",
       "      <td>18</td>\n",
       "      <td>0</td>\n",
       "      <td>19</td>\n",
       "      <td>20</td>\n",
       "      <td>2</td>\n",
       "    </tr>\n",
       "    <tr>\n",
       "      <th>3</th>\n",
       "      <td>Brooklyn Nets</td>\n",
       "      <td>28</td>\n",
       "      <td>54</td>\n",
       "      <td>0</td>\n",
       "      <td>15</td>\n",
       "      <td>26</td>\n",
       "      <td>0</td>\n",
       "      <td>13</td>\n",
       "      <td>28</td>\n",
       "      <td>0</td>\n",
       "      <td>...</td>\n",
       "      <td>0</td>\n",
       "      <td>37</td>\n",
       "      <td>44</td>\n",
       "      <td>1</td>\n",
       "      <td>16</td>\n",
       "      <td>25</td>\n",
       "      <td>0</td>\n",
       "      <td>21</td>\n",
       "      <td>19</td>\n",
       "      <td>1</td>\n",
       "    </tr>\n",
       "  </tbody>\n",
       "</table>\n",
       "<p>3 rows × 28 columns</p>\n",
       "</div>"
      ],
      "text/plain": [
       "             Team SU_T_W SU_T_L SU_T_D SU_H_W SU_H_L SU_H_D SU_A_W SU_A_L  \\\n",
       "1   Atlanta Hawks     24     58      0     16     25      0      8     33   \n",
       "2  Boston Celtics     55     27      0     27     14      0     28     13   \n",
       "3   Brooklyn Nets     28     54      0     15     26      0     13     28   \n",
       "\n",
       "  SU_A_D  ...   AS_A_D OU_T_W OU_T_L OU_T_D OU_H_W OU_H_L OU_H_D OU_A_W  \\\n",
       "1      0  ...        3     37     44      1     21     20      0     16   \n",
       "2      0  ...        0     42     38      2     23     18      0     19   \n",
       "3      0  ...        0     37     44      1     16     25      0     21   \n",
       "\n",
       "  OU_A_L OU_A_D  \n",
       "1     24      1  \n",
       "2     20      2  \n",
       "3     19      1  \n",
       "\n",
       "[3 rows x 28 columns]"
      ]
     },
     "execution_count": 10,
     "metadata": {},
     "output_type": "execute_result"
    }
   ],
   "source": [
    "scrubbed_dataframe.head(3)"
   ]
  },
  {
   "cell_type": "markdown",
   "metadata": {},
   "source": [
    "#### Convert to integer and divide by total number of games 82"
   ]
  },
  {
   "cell_type": "code",
   "execution_count": 101,
   "metadata": {},
   "outputs": [
    {
     "name": "stdout",
     "output_type": "stream",
     "text": [
      "<class 'pandas.core.frame.DataFrame'>\n",
      "Int64Index: 30 entries, 1 to 30\n",
      "Data columns (total 28 columns):\n",
      "Team      30 non-null object\n",
      "SU_T_W    30 non-null object\n",
      "SU_T_L    30 non-null object\n",
      "SU_T_D    30 non-null object\n",
      "SU_H_W    30 non-null object\n",
      "SU_H_L    30 non-null object\n",
      "SU_H_D    30 non-null object\n",
      "SU_A_W    30 non-null object\n",
      "SU_A_L    30 non-null object\n",
      "SU_A_D    30 non-null object\n",
      "AS_T_W    30 non-null object\n",
      "AS_T_L    30 non-null object\n",
      "AS_T_D    30 non-null object\n",
      "AS_H_W    30 non-null object\n",
      "AS_H_L    30 non-null object\n",
      "AS_H_D    30 non-null object\n",
      "AS_A_W    30 non-null object\n",
      "AS_A_L    30 non-null object\n",
      "AS_A_D    30 non-null object\n",
      "OU_T_W    30 non-null object\n",
      "OU_T_L    30 non-null object\n",
      "OU_T_D    30 non-null object\n",
      "OU_H_W    30 non-null object\n",
      "OU_H_L    30 non-null object\n",
      "OU_H_D    30 non-null object\n",
      "OU_A_W    30 non-null object\n",
      "OU_A_L    30 non-null object\n",
      "OU_A_D    30 non-null object\n",
      "dtypes: object(28)\n",
      "memory usage: 8.0+ KB\n"
     ]
    }
   ],
   "source": [
    "scrubbed_dataframe.info()"
   ]
  },
  {
   "cell_type": "code",
   "execution_count": 11,
   "metadata": {
    "collapsed": true
   },
   "outputs": [],
   "source": [
    "temp_dataframe = scrubbed_dataframe.iloc[:,1:].apply(pd.to_numeric)/82"
   ]
  },
  {
   "cell_type": "code",
   "execution_count": 12,
   "metadata": {
    "collapsed": true
   },
   "outputs": [],
   "source": [
    "scrubbed_dataframe.iloc[:,1:] = temp_dataframe"
   ]
  },
  {
   "cell_type": "code",
   "execution_count": 13,
   "metadata": {},
   "outputs": [
    {
     "data": {
      "text/html": [
       "<div>\n",
       "<style scoped>\n",
       "    .dataframe tbody tr th:only-of-type {\n",
       "        vertical-align: middle;\n",
       "    }\n",
       "\n",
       "    .dataframe tbody tr th {\n",
       "        vertical-align: top;\n",
       "    }\n",
       "\n",
       "    .dataframe thead th {\n",
       "        text-align: right;\n",
       "    }\n",
       "</style>\n",
       "<table border=\"1\" class=\"dataframe\">\n",
       "  <thead>\n",
       "    <tr style=\"text-align: right;\">\n",
       "      <th></th>\n",
       "      <th>Team</th>\n",
       "      <th>SU_T_W</th>\n",
       "      <th>SU_T_L</th>\n",
       "      <th>SU_T_D</th>\n",
       "      <th>SU_H_W</th>\n",
       "      <th>SU_H_L</th>\n",
       "      <th>SU_H_D</th>\n",
       "      <th>SU_A_W</th>\n",
       "      <th>SU_A_L</th>\n",
       "      <th>SU_A_D</th>\n",
       "      <th>...</th>\n",
       "      <th>AS_A_D</th>\n",
       "      <th>OU_T_W</th>\n",
       "      <th>OU_T_L</th>\n",
       "      <th>OU_T_D</th>\n",
       "      <th>OU_H_W</th>\n",
       "      <th>OU_H_L</th>\n",
       "      <th>OU_H_D</th>\n",
       "      <th>OU_A_W</th>\n",
       "      <th>OU_A_L</th>\n",
       "      <th>OU_A_D</th>\n",
       "    </tr>\n",
       "  </thead>\n",
       "  <tbody>\n",
       "    <tr>\n",
       "      <th>1</th>\n",
       "      <td>Atlanta Hawks</td>\n",
       "      <td>0.292683</td>\n",
       "      <td>0.707317</td>\n",
       "      <td>0</td>\n",
       "      <td>0.195122</td>\n",
       "      <td>0.304878</td>\n",
       "      <td>0</td>\n",
       "      <td>0.097561</td>\n",
       "      <td>0.402439</td>\n",
       "      <td>0</td>\n",
       "      <td>...</td>\n",
       "      <td>0.0365854</td>\n",
       "      <td>0.45122</td>\n",
       "      <td>0.536585</td>\n",
       "      <td>0.0121951</td>\n",
       "      <td>0.256098</td>\n",
       "      <td>0.243902</td>\n",
       "      <td>0</td>\n",
       "      <td>0.195122</td>\n",
       "      <td>0.292683</td>\n",
       "      <td>0.0121951</td>\n",
       "    </tr>\n",
       "    <tr>\n",
       "      <th>2</th>\n",
       "      <td>Boston Celtics</td>\n",
       "      <td>0.670732</td>\n",
       "      <td>0.329268</td>\n",
       "      <td>0</td>\n",
       "      <td>0.329268</td>\n",
       "      <td>0.170732</td>\n",
       "      <td>0</td>\n",
       "      <td>0.341463</td>\n",
       "      <td>0.158537</td>\n",
       "      <td>0</td>\n",
       "      <td>...</td>\n",
       "      <td>0</td>\n",
       "      <td>0.512195</td>\n",
       "      <td>0.463415</td>\n",
       "      <td>0.0243902</td>\n",
       "      <td>0.280488</td>\n",
       "      <td>0.219512</td>\n",
       "      <td>0</td>\n",
       "      <td>0.231707</td>\n",
       "      <td>0.243902</td>\n",
       "      <td>0.0243902</td>\n",
       "    </tr>\n",
       "  </tbody>\n",
       "</table>\n",
       "<p>2 rows × 28 columns</p>\n",
       "</div>"
      ],
      "text/plain": [
       "             Team    SU_T_W    SU_T_L SU_T_D    SU_H_W    SU_H_L SU_H_D  \\\n",
       "1   Atlanta Hawks  0.292683  0.707317      0  0.195122  0.304878      0   \n",
       "2  Boston Celtics  0.670732  0.329268      0  0.329268  0.170732      0   \n",
       "\n",
       "     SU_A_W    SU_A_L SU_A_D    ...         AS_A_D    OU_T_W    OU_T_L  \\\n",
       "1  0.097561  0.402439      0    ...      0.0365854   0.45122  0.536585   \n",
       "2  0.341463  0.158537      0    ...              0  0.512195  0.463415   \n",
       "\n",
       "      OU_T_D    OU_H_W    OU_H_L OU_H_D    OU_A_W    OU_A_L     OU_A_D  \n",
       "1  0.0121951  0.256098  0.243902      0  0.195122  0.292683  0.0121951  \n",
       "2  0.0243902  0.280488  0.219512      0  0.231707  0.243902  0.0243902  \n",
       "\n",
       "[2 rows x 28 columns]"
      ]
     },
     "execution_count": 13,
     "metadata": {},
     "output_type": "execute_result"
    }
   ],
   "source": [
    "scrubbed_dataframe.head(2)"
   ]
  },
  {
   "cell_type": "code",
   "execution_count": 122,
   "metadata": {},
   "outputs": [
    {
     "name": "stdout",
     "output_type": "stream",
     "text": [
      "<class 'pandas.core.frame.DataFrame'>\n",
      "Int64Index: 30 entries, 1 to 30\n",
      "Data columns (total 28 columns):\n",
      "Team      30 non-null object\n",
      "SU_T_W    30 non-null object\n",
      "SU_T_L    30 non-null object\n",
      "SU_T_D    30 non-null object\n",
      "SU_H_W    30 non-null object\n",
      "SU_H_L    30 non-null object\n",
      "SU_H_D    30 non-null object\n",
      "SU_A_W    30 non-null object\n",
      "SU_A_L    30 non-null object\n",
      "SU_A_D    30 non-null object\n",
      "AS_T_W    30 non-null object\n",
      "AS_T_L    30 non-null object\n",
      "AS_T_D    30 non-null object\n",
      "AS_H_W    30 non-null object\n",
      "AS_H_L    30 non-null object\n",
      "AS_H_D    30 non-null object\n",
      "AS_A_W    30 non-null object\n",
      "AS_A_L    30 non-null object\n",
      "AS_A_D    30 non-null object\n",
      "OU_T_W    30 non-null object\n",
      "OU_T_L    30 non-null object\n",
      "OU_T_D    30 non-null object\n",
      "OU_H_W    30 non-null object\n",
      "OU_H_L    30 non-null object\n",
      "OU_H_D    30 non-null object\n",
      "OU_A_W    30 non-null object\n",
      "OU_A_L    30 non-null object\n",
      "OU_A_D    30 non-null object\n",
      "dtypes: object(28)\n",
      "memory usage: 6.8+ KB\n"
     ]
    }
   ],
   "source": [
    "scrubbed_dataframe.info()"
   ]
  },
  {
   "cell_type": "code",
   "execution_count": null,
   "metadata": {
    "collapsed": true
   },
   "outputs": [],
   "source": []
  },
  {
   "cell_type": "code",
   "execution_count": null,
   "metadata": {
    "collapsed": true
   },
   "outputs": [],
   "source": []
  },
  {
   "cell_type": "markdown",
   "metadata": {},
   "source": [
    "### Descriptive anaylsis "
   ]
  },
  {
   "cell_type": "markdown",
   "metadata": {},
   "source": [
    "### Vertical plot of AS_T_W against 0.5 for each team?"
   ]
  },
  {
   "cell_type": "markdown",
   "metadata": {},
   "source": [
    "https://chrisalbon.com/python/data_wrangling/pandas_with_seaborn/\n",
    "\n",
    "https://blog.modeanalytics.com/python-data-visualization-libraries/"
   ]
  },
  {
   "cell_type": "code",
   "execution_count": 30,
   "metadata": {
    "collapsed": true
   },
   "outputs": [],
   "source": [
    "import matplotlib.pyplot as plt\n",
    "import seaborn as sns\n",
    "%matplotlib inline\n"
   ]
  },
  {
   "cell_type": "code",
   "execution_count": 31,
   "metadata": {
    "collapsed": true
   },
   "outputs": [],
   "source": [
    "#from IPython.display import set_matplotlib_formats\n",
    "#set_matplotlib_formats('pdf')"
   ]
  },
  {
   "cell_type": "code",
   "execution_count": null,
   "metadata": {
    "collapsed": true
   },
   "outputs": [],
   "source": []
  },
  {
   "cell_type": "code",
   "execution_count": null,
   "metadata": {
    "collapsed": true
   },
   "outputs": [],
   "source": []
  },
  {
   "cell_type": "markdown",
   "metadata": {},
   "source": [
    "scrubbed_dataframe.AS_T_W or srubbed[\"AS_T_W\"]"
   ]
  },
  {
   "cell_type": "markdown",
   "metadata": {},
   "source": [
    "Pandas allows you to select a single column as a Series by using dot notation. This is also referred to as attribute access. \n",
    "\n",
    "he biggest drawback is that you cannot select columns that have spaces or other characters that are not valid as Python identifiers (variable names)."
   ]
  },
  {
   "cell_type": "markdown",
   "metadata": {},
   "source": [
    "#### Seborn package"
   ]
  },
  {
   "cell_type": "code",
   "execution_count": 18,
   "metadata": {},
   "outputs": [
    {
     "name": "stderr",
     "output_type": "stream",
     "text": [
      "/Users/sds930/anaconda/lib/python3.6/site-packages/scipy/stats/stats.py:1713: FutureWarning: Using a non-tuple sequence for multidimensional indexing is deprecated; use `arr[tuple(seq)]` instead of `arr[seq]`. In the future this will be interpreted as an array index, `arr[np.array(seq)]`, which will result either in an error or a different result.\n",
      "  return np.add.reduce(sorted[indexer] * weights, axis=axis) / sumval\n"
     ]
    },
    {
     "data": {
      "text/plain": [
       "<matplotlib.axes._subplots.AxesSubplot at 0x118d26d30>"
      ]
     },
     "execution_count": 18,
     "metadata": {},
     "output_type": "execute_result"
    },
    {
     "data": {
      "application/pdf": "[encoded data removed]",
      "text/plain": [
       "<Figure size 432x288 with 1 Axes>"
      ]
     },
     "metadata": {},
     "output_type": "display_data"
    }
   ],
   "source": [
    "sns.kdeplot(scrubbed_dataframe.AS_T_W)"
   ]
  },
  {
   "cell_type": "code",
   "execution_count": null,
   "metadata": {
    "collapsed": true
   },
   "outputs": [],
   "source": []
  },
  {
   "cell_type": "code",
   "execution_count": 19,
   "metadata": {},
   "outputs": [
    {
     "name": "stderr",
     "output_type": "stream",
     "text": [
      "/Users/sds930/anaconda/lib/python3.6/site-packages/scipy/stats/stats.py:1713: FutureWarning: Using a non-tuple sequence for multidimensional indexing is deprecated; use `arr[tuple(seq)]` instead of `arr[seq]`. In the future this will be interpreted as an array index, `arr[np.array(seq)]`, which will result either in an error or a different result.\n",
      "  return np.add.reduce(sorted[indexer] * weights, axis=axis) / sumval\n"
     ]
    },
    {
     "ename": "ValueError",
     "evalue": "color kwarg must have one color per dataset",
     "output_type": "error",
     "traceback": [
      "\u001b[0;31m---------------------------------------------------------------------------\u001b[0m",
      "\u001b[0;31mValueError\u001b[0m                                Traceback (most recent call last)",
      "\u001b[0;32m<ipython-input-19-d5dce3e28a7e>\u001b[0m in \u001b[0;36m<module>\u001b[0;34m()\u001b[0m\n\u001b[0;32m----> 1\u001b[0;31m \u001b[0msns\u001b[0m\u001b[0;34m.\u001b[0m\u001b[0mdistplot\u001b[0m\u001b[0;34m(\u001b[0m\u001b[0mscrubbed_dataframe\u001b[0m\u001b[0;34m[\u001b[0m\u001b[0;34m\"AS_T_W\"\u001b[0m\u001b[0;34m]\u001b[0m\u001b[0;34m)\u001b[0m\u001b[0;34m\u001b[0m\u001b[0m\n\u001b[0m",
      "\u001b[0;32m/Users/sds930/anaconda/lib/python3.6/site-packages/seaborn/distributions.py\u001b[0m in \u001b[0;36mdistplot\u001b[0;34m(a, bins, hist, kde, rug, fit, hist_kws, kde_kws, rug_kws, fit_kws, color, vertical, norm_hist, axlabel, label, ax)\u001b[0m\n\u001b[1;32m    223\u001b[0m         \u001b[0mhist_color\u001b[0m \u001b[0;34m=\u001b[0m \u001b[0mhist_kws\u001b[0m\u001b[0;34m.\u001b[0m\u001b[0mpop\u001b[0m\u001b[0;34m(\u001b[0m\u001b[0;34m\"color\"\u001b[0m\u001b[0;34m,\u001b[0m \u001b[0mcolor\u001b[0m\u001b[0;34m)\u001b[0m\u001b[0;34m\u001b[0m\u001b[0m\n\u001b[1;32m    224\u001b[0m         ax.hist(a, bins, orientation=orientation,\n\u001b[0;32m--> 225\u001b[0;31m                 color=hist_color, **hist_kws)\n\u001b[0m\u001b[1;32m    226\u001b[0m         \u001b[0;32mif\u001b[0m \u001b[0mhist_color\u001b[0m \u001b[0;34m!=\u001b[0m \u001b[0mcolor\u001b[0m\u001b[0;34m:\u001b[0m\u001b[0;34m\u001b[0m\u001b[0m\n\u001b[1;32m    227\u001b[0m             \u001b[0mhist_kws\u001b[0m\u001b[0;34m[\u001b[0m\u001b[0;34m\"color\"\u001b[0m\u001b[0;34m]\u001b[0m \u001b[0;34m=\u001b[0m \u001b[0mhist_color\u001b[0m\u001b[0;34m\u001b[0m\u001b[0m\n",
      "\u001b[0;32m/Users/sds930/anaconda/lib/python3.6/site-packages/matplotlib/__init__.py\u001b[0m in \u001b[0;36minner\u001b[0;34m(ax, *args, **kwargs)\u001b[0m\n\u001b[1;32m   1853\u001b[0m                         \u001b[0;34m\"the Matplotlib list!)\"\u001b[0m \u001b[0;34m%\u001b[0m \u001b[0;34m(\u001b[0m\u001b[0mlabel_namer\u001b[0m\u001b[0;34m,\u001b[0m \u001b[0mfunc\u001b[0m\u001b[0;34m.\u001b[0m\u001b[0m__name__\u001b[0m\u001b[0;34m)\u001b[0m\u001b[0;34m,\u001b[0m\u001b[0;34m\u001b[0m\u001b[0m\n\u001b[1;32m   1854\u001b[0m                         RuntimeWarning, stacklevel=2)\n\u001b[0;32m-> 1855\u001b[0;31m             \u001b[0;32mreturn\u001b[0m \u001b[0mfunc\u001b[0m\u001b[0;34m(\u001b[0m\u001b[0max\u001b[0m\u001b[0;34m,\u001b[0m \u001b[0;34m*\u001b[0m\u001b[0margs\u001b[0m\u001b[0;34m,\u001b[0m \u001b[0;34m**\u001b[0m\u001b[0mkwargs\u001b[0m\u001b[0;34m)\u001b[0m\u001b[0;34m\u001b[0m\u001b[0m\n\u001b[0m\u001b[1;32m   1856\u001b[0m \u001b[0;34m\u001b[0m\u001b[0m\n\u001b[1;32m   1857\u001b[0m         inner.__doc__ = _add_data_doc(inner.__doc__,\n",
      "\u001b[0;32m/Users/sds930/anaconda/lib/python3.6/site-packages/matplotlib/axes/_axes.py\u001b[0m in \u001b[0;36mhist\u001b[0;34m(***failed resolving arguments***)\u001b[0m\n\u001b[1;32m   6502\u001b[0m             \u001b[0mcolor\u001b[0m \u001b[0;34m=\u001b[0m \u001b[0mmcolors\u001b[0m\u001b[0;34m.\u001b[0m\u001b[0mto_rgba_array\u001b[0m\u001b[0;34m(\u001b[0m\u001b[0mcolor\u001b[0m\u001b[0;34m)\u001b[0m\u001b[0;34m\u001b[0m\u001b[0m\n\u001b[1;32m   6503\u001b[0m             \u001b[0;32mif\u001b[0m \u001b[0mlen\u001b[0m\u001b[0;34m(\u001b[0m\u001b[0mcolor\u001b[0m\u001b[0;34m)\u001b[0m \u001b[0;34m!=\u001b[0m \u001b[0mnx\u001b[0m\u001b[0;34m:\u001b[0m\u001b[0;34m\u001b[0m\u001b[0m\n\u001b[0;32m-> 6504\u001b[0;31m                 \u001b[0;32mraise\u001b[0m \u001b[0mValueError\u001b[0m\u001b[0;34m(\u001b[0m\u001b[0;34m\"color kwarg must have one color per dataset\"\u001b[0m\u001b[0;34m)\u001b[0m\u001b[0;34m\u001b[0m\u001b[0m\n\u001b[0m\u001b[1;32m   6505\u001b[0m \u001b[0;34m\u001b[0m\u001b[0m\n\u001b[1;32m   6506\u001b[0m         \u001b[0;31m# If bins are not specified either explicitly or via range,\u001b[0m\u001b[0;34m\u001b[0m\u001b[0;34m\u001b[0m\u001b[0m\n",
      "\u001b[0;31mValueError\u001b[0m: color kwarg must have one color per dataset"
     ]
    },
    {
     "data": {
      "application/pdf": "[encoded data removed]",
      "text/plain": [
       "<Figure size 432x288 with 1 Axes>"
      ]
     },
     "metadata": {},
     "output_type": "display_data"
    }
   ],
   "source": [
    "sns.distplot(scrubbed_dataframe[\"AS_T_W\"])"
   ]
  },
  {
   "cell_type": "code",
   "execution_count": 51,
   "metadata": {},
   "outputs": [
    {
     "name": "stderr",
     "output_type": "stream",
     "text": [
      "/Users/sds930/anaconda/lib/python3.6/site-packages/seaborn/categorical.py:2342: UserWarning: The violinplot API has been changed. Attempting to adjust your arguments for the new API (which might not work). Please update your code. See the version 0.6 release notes for more info.\n",
      "  warnings.warn(msg, UserWarning)\n"
     ]
    },
    {
     "data": {
      "text/plain": [
       "<matplotlib.axes._subplots.AxesSubplot at 0x11cfb81d0>"
      ]
     },
     "execution_count": 51,
     "metadata": {},
     "output_type": "execute_result"
    },
    {
     "data": {
      "image/png": "[encoded data removed]",
      "text/plain": [
       "<matplotlib.figure.Figure at 0x11cecdf98>"
      ]
     },
     "metadata": {},
     "output_type": "display_data"
    }
   ],
   "source": [
    "sns.violinplot(scrubbed_dataframe)"
   ]
  },
  {
   "cell_type": "markdown",
   "metadata": {},
   "source": [
    "#### Seaborn dotplot template"
   ]
  },
  {
   "cell_type": "code",
   "execution_count": null,
   "metadata": {
    "collapsed": true
   },
   "outputs": [],
   "source": []
  },
  {
   "cell_type": "markdown",
   "metadata": {},
   "source": [
    "Template code from : https://seaborn.pydata.org/examples/pairgrid_dotplot.html"
   ]
  },
  {
   "cell_type": "code",
   "execution_count": null,
   "metadata": {
    "collapsed": true
   },
   "outputs": [],
   "source": [
    "https://stackoverflow.com/questions/33446029/how-to-change-a-figures-size-in-python-seaborn-package"
   ]
  },
  {
   "cell_type": "code",
   "execution_count": null,
   "metadata": {
    "collapsed": true
   },
   "outputs": [],
   "source": [
    "In seaborn <= 0.8.1:\n",
    "\n",
    "g = sns.pairplot(..., size=10, aspect=0.6)\n",
    "In seaborn >= 0.9.0:\n",
    "\n",
    "g = sns.pairplot(..., height=10, aspect=0.6)"
   ]
  },
  {
   "cell_type": "code",
   "execution_count": 123,
   "metadata": {},
   "outputs": [
    {
     "data": {
      "text/html": [
       "<div>\n",
       "<style>\n",
       "    .dataframe thead tr:only-child th {\n",
       "        text-align: right;\n",
       "    }\n",
       "\n",
       "    .dataframe thead th {\n",
       "        text-align: left;\n",
       "    }\n",
       "\n",
       "    .dataframe tbody tr th {\n",
       "        vertical-align: top;\n",
       "    }\n",
       "</style>\n",
       "<table border=\"1\" class=\"dataframe\">\n",
       "  <thead>\n",
       "    <tr style=\"text-align: right;\">\n",
       "      <th></th>\n",
       "      <th>total</th>\n",
       "      <th>speeding</th>\n",
       "      <th>alcohol</th>\n",
       "      <th>not_distracted</th>\n",
       "      <th>no_previous</th>\n",
       "      <th>ins_premium</th>\n",
       "      <th>ins_losses</th>\n",
       "      <th>abbrev</th>\n",
       "    </tr>\n",
       "  </thead>\n",
       "  <tbody>\n",
       "    <tr>\n",
       "      <th>0</th>\n",
       "      <td>18.8</td>\n",
       "      <td>7.332</td>\n",
       "      <td>5.640</td>\n",
       "      <td>18.048</td>\n",
       "      <td>15.040</td>\n",
       "      <td>784.55</td>\n",
       "      <td>145.08</td>\n",
       "      <td>AL</td>\n",
       "    </tr>\n",
       "    <tr>\n",
       "      <th>1</th>\n",
       "      <td>18.1</td>\n",
       "      <td>7.421</td>\n",
       "      <td>4.525</td>\n",
       "      <td>16.290</td>\n",
       "      <td>17.014</td>\n",
       "      <td>1053.48</td>\n",
       "      <td>133.93</td>\n",
       "      <td>AK</td>\n",
       "    </tr>\n",
       "  </tbody>\n",
       "</table>\n",
       "</div>"
      ],
      "text/plain": [
       "   total  speeding  alcohol  not_distracted  no_previous  ins_premium  \\\n",
       "0   18.8     7.332    5.640          18.048       15.040       784.55   \n",
       "1   18.1     7.421    4.525          16.290       17.014      1053.48   \n",
       "\n",
       "   ins_losses abbrev  \n",
       "0      145.08     AL  \n",
       "1      133.93     AK  "
      ]
     },
     "execution_count": 123,
     "metadata": {},
     "output_type": "execute_result"
    }
   ],
   "source": [
    "crashes.head(2)"
   ]
  },
  {
   "cell_type": "code",
   "execution_count": 75,
   "metadata": {},
   "outputs": [
    {
     "name": "stdout",
     "output_type": "stream",
     "text": [
      "<class 'pandas.core.frame.DataFrame'>\n",
      "RangeIndex: 51 entries, 0 to 50\n",
      "Data columns (total 8 columns):\n",
      "total             51 non-null float64\n",
      "speeding          51 non-null float64\n",
      "alcohol           51 non-null float64\n",
      "not_distracted    51 non-null float64\n",
      "no_previous       51 non-null float64\n",
      "ins_premium       51 non-null float64\n",
      "ins_losses        51 non-null float64\n",
      "abbrev            51 non-null object\n",
      "dtypes: float64(7), object(1)\n",
      "memory usage: 3.3+ KB\n"
     ]
    }
   ],
   "source": [
    "crashes.info()\n"
   ]
  },
  {
   "cell_type": "code",
   "execution_count": 17,
   "metadata": {},
   "outputs": [
    {
     "name": "stderr",
     "output_type": "stream",
     "text": [
      "/Users/sds930/anaconda/lib/python3.6/site-packages/seaborn/axisgrid.py:1241: UserWarning: The `size` paramter has been renamed to `height`; please update your code.\n",
      "  warnings.warn(UserWarning(msg))\n"
     ]
    },
    {
     "data": {
      "image/png": "[encoded data removed]",
      "text/plain": [
       "<Figure size 900x720 with 5 Axes>"
      ]
     },
     "metadata": {},
     "output_type": "display_data"
    }
   ],
   "source": [
    "sns.set(style=\"whitegrid\")\n",
    "\n",
    "# Load the dataset\n",
    "crashes = sns.load_dataset(\"car_crashes\")\n",
    "\n",
    "# Make the PairGrid\n",
    "g = sns.PairGrid(crashes.sort_values(\"total\", ascending=False),\n",
    "                 x_vars=crashes.columns[:-3], y_vars=[\"abbrev\"], size = 10,aspect=0.25)\n",
    "\n",
    "# Draw a dot plot using the stripplot function\n",
    "g.map(sns.stripplot, size=10, orient=\"h\", linewidth=1, edgecolor=\"w\")\n",
    "\n",
    "\n",
    "# Use the same x axis limits on all columns and add better labels\n",
    "g.set(xlim=(0, 25), xlabel=\"Crashes\", ylabel=\"\")\n",
    "\n",
    "\n",
    "\n",
    "\n",
    "# Use semantically meaningful titles for the columns\n",
    "titles = [\"Total crashes\", \"Speeding crashes\", \"Alcohol crashes\",\n",
    "          \"Not distracted crashes\", \"No previous crashes\"]\n",
    "\n",
    "for ax, title in zip(g.axes.flat, titles):\n",
    "\n",
    "    # Set a different title for each axes\n",
    "    ax.set(title=title)\n",
    "\n",
    "    # Make the grid horizontal instead of vertical\n",
    "    ax.xaxis.grid(False)\n",
    "    ax.yaxis.grid(True)\n",
    "\n",
    "sns.despine(left=True, bottom=True)\n"
   ]
  },
  {
   "cell_type": "code",
   "execution_count": null,
   "metadata": {
    "collapsed": true
   },
   "outputs": [],
   "source": []
  },
  {
   "cell_type": "code",
   "execution_count": null,
   "metadata": {
    "collapsed": true
   },
   "outputs": [],
   "source": []
  },
  {
   "cell_type": "code",
   "execution_count": null,
   "metadata": {
    "collapsed": true
   },
   "outputs": [],
   "source": [
    "\n",
    "\n",
    "# Use semantically meaningful titles for the columns\n",
    "titles = [\"Total crashes\", \"Speeding crashes\", \"Alcohol crashes\",\n",
    "          \"Not distracted crashes\", \"No previous crashes\"]\n",
    "\n",
    "for ax, title in zip(g.axes.flat, titles):\n",
    "\n",
    "    # Set a different title for each axes\n",
    "    ax.set(title=title)\n",
    "\n",
    "    # Make the grid horizontal instead of vertical\n",
    "    ax.xaxis.grid(False)\n",
    "    ax.yaxis.grid(True)\n",
    "\n",
    "sns.despine(left=True, bottom=True)"
   ]
  },
  {
   "cell_type": "code",
   "execution_count": null,
   "metadata": {
    "collapsed": true
   },
   "outputs": [],
   "source": []
  },
  {
   "cell_type": "code",
   "execution_count": null,
   "metadata": {
    "collapsed": true
   },
   "outputs": [],
   "source": []
  },
  {
   "cell_type": "markdown",
   "metadata": {},
   "source": [
    "#### scrubbed data fame + Seaborn template "
   ]
  },
  {
   "cell_type": "markdown",
   "metadata": {},
   "source": [
    ".columns method \n",
    "\n",
    "Earlier, we mentioned the three components of the DataFrame. The index, columns and data (values). We can extract each of these components into their own variables. Let’s do that and then inspect them:"
   ]
  },
  {
   "cell_type": "code",
   "execution_count": null,
   "metadata": {
    "collapsed": true
   },
   "outputs": [],
   "source": []
  },
  {
   "cell_type": "markdown",
   "metadata": {},
   "source": [
    "https://stackoverflow.com/questions/28910851/python-pandas-changing-some-column-types-to-categories"
   ]
  },
  {
   "cell_type": "code",
   "execution_count": 20,
   "metadata": {
    "collapsed": true
   },
   "outputs": [],
   "source": [
    "scrubbed_dataframe.iloc[:,1:] = scrubbed_dataframe.iloc[:,1:].astype('float64')"
   ]
  },
  {
   "cell_type": "code",
   "execution_count": 21,
   "metadata": {},
   "outputs": [
    {
     "name": "stdout",
     "output_type": "stream",
     "text": [
      "<class 'pandas.core.frame.DataFrame'>\n",
      "Int64Index: 30 entries, 1 to 30\n",
      "Data columns (total 28 columns):\n",
      "Team      30 non-null object\n",
      "SU_T_W    30 non-null object\n",
      "SU_T_L    30 non-null object\n",
      "SU_T_D    30 non-null object\n",
      "SU_H_W    30 non-null object\n",
      "SU_H_L    30 non-null object\n",
      "SU_H_D    30 non-null object\n",
      "SU_A_W    30 non-null object\n",
      "SU_A_L    30 non-null object\n",
      "SU_A_D    30 non-null object\n",
      "AS_T_W    30 non-null object\n",
      "AS_T_L    30 non-null object\n",
      "AS_T_D    30 non-null object\n",
      "AS_H_W    30 non-null object\n",
      "AS_H_L    30 non-null object\n",
      "AS_H_D    30 non-null object\n",
      "AS_A_W    30 non-null object\n",
      "AS_A_L    30 non-null object\n",
      "AS_A_D    30 non-null object\n",
      "OU_T_W    30 non-null object\n",
      "OU_T_L    30 non-null object\n",
      "OU_T_D    30 non-null object\n",
      "OU_H_W    30 non-null object\n",
      "OU_H_L    30 non-null object\n",
      "OU_H_D    30 non-null object\n",
      "OU_A_W    30 non-null object\n",
      "OU_A_L    30 non-null object\n",
      "OU_A_D    30 non-null object\n",
      "dtypes: object(28)\n",
      "memory usage: 6.8+ KB\n"
     ]
    }
   ],
   "source": [
    "scrubbed_dataframe.info()"
   ]
  },
  {
   "cell_type": "code",
   "execution_count": null,
   "metadata": {
    "collapsed": true
   },
   "outputs": [],
   "source": []
  },
  {
   "cell_type": "code",
   "execution_count": null,
   "metadata": {
    "collapsed": true
   },
   "outputs": [],
   "source": []
  },
  {
   "cell_type": "code",
   "execution_count": 143,
   "metadata": {},
   "outputs": [
    {
     "name": "stdout",
     "output_type": "stream",
     "text": [
      "<class 'pandas.core.frame.DataFrame'>\n",
      "Int64Index: 30 entries, 1 to 30\n",
      "Data columns (total 28 columns):\n",
      "Team      30 non-null object\n",
      "SU_T_W    30 non-null float64\n",
      "SU_T_L    30 non-null float64\n",
      "SU_T_D    30 non-null float64\n",
      "SU_H_W    30 non-null float64\n",
      "SU_H_L    30 non-null float64\n",
      "SU_H_D    30 non-null float64\n",
      "SU_A_W    30 non-null float64\n",
      "SU_A_L    30 non-null float64\n",
      "SU_A_D    30 non-null float64\n",
      "AS_T_W    30 non-null float64\n",
      "AS_T_L    30 non-null float64\n",
      "AS_T_D    30 non-null float64\n",
      "AS_H_W    30 non-null float64\n",
      "AS_H_L    30 non-null float64\n",
      "AS_H_D    30 non-null float64\n",
      "AS_A_W    30 non-null float64\n",
      "AS_A_L    30 non-null float64\n",
      "AS_A_D    30 non-null float64\n",
      "OU_T_W    30 non-null float64\n",
      "OU_T_L    30 non-null float64\n",
      "OU_T_D    30 non-null float64\n",
      "OU_H_W    30 non-null float64\n",
      "OU_H_L    30 non-null float64\n",
      "OU_H_D    30 non-null float64\n",
      "OU_A_W    30 non-null float64\n",
      "OU_A_L    30 non-null float64\n",
      "OU_A_D    30 non-null float64\n",
      "dtypes: float64(27), object(1)\n",
      "memory usage: 6.8+ KB\n"
     ]
    }
   ],
   "source": [
    " scrubbed_dataframe.info()"
   ]
  },
  {
   "cell_type": "code",
   "execution_count": null,
   "metadata": {
    "collapsed": true
   },
   "outputs": [],
   "source": [
    "columns(0) is TEAM name not y_vars = TEAM "
   ]
  },
  {
   "cell_type": "markdown",
   "metadata": {},
   "source": [
    "https://stackoverflow.com/questions/14608483/how-to-add-a-grid-line-at-a-specific-location-in-matplotlib-plot"
   ]
  },
  {
   "cell_type": "code",
   "execution_count": 34,
   "metadata": {},
   "outputs": [
    {
     "name": "stderr",
     "output_type": "stream",
     "text": [
      "/Users/sds930/anaconda/lib/python3.6/site-packages/seaborn/axisgrid.py:1241: UserWarning: The `size` paramter has been renamed to `height`; please update your code.\n",
      "  warnings.warn(UserWarning(msg))\n"
     ]
    },
    {
     "data": {
      "image/png": "[encoded data removed]",
      "text/plain": [
       "<Figure size 360x720 with 2 Axes>"
      ]
     },
     "metadata": {},
     "output_type": "display_data"
    }
   ],
   "source": [
    "sns.set(style=\"whitegrid\")\n",
    "\n",
    "\n",
    "# Make the PairGrid\n",
    "grid = sns.PairGrid(scrubbed_dataframe.sort_values(\"SU_T_W\", ascending=False),\n",
    "                 x_vars=scrubbed_dataframe.columns[[1,10]], \n",
    "                 y_vars=[\"Team\"], \n",
    "                 size = 10,\n",
    "                 aspect=0.25)\n",
    "\n",
    "# Draw a dot plot using the stripplot function\n",
    "grid.map(sns.stripplot, \n",
    "      size=10, \n",
    "      orient=\"h\", \n",
    "      linewidth=1, \n",
    "      edgecolor=\"w\")\n",
    "\n",
    "\n",
    "grid.set(xlim=(0, 1), xlabel=\"Wins\", ylabel=\"\")\n",
    "\n",
    "\n",
    "# Use semantically meaningful titles for the columns\n",
    "titles = [\"Straight-Up Total Wins\", \"Against The Spread Total Wins\"]\n",
    "\n",
    "for ax, title in zip(grid.axes.flat, titles):\n",
    "\n",
    "    # Set a different title for each axes\n",
    "    ax.set(title=title)\n",
    "\n",
    "    # Make the grid horizontal instead of vertical\n",
    "    ax.xaxis.grid(False)\n",
    "    ax.yaxis.grid(True)\n",
    "    \n",
    "    ax.axvline(0.5, linestyle='--', color='k') # vertical lines\n",
    "\n",
    "    \n",
    "sns.despine(left=True, bottom=True)\n",
    "\n",
    "#https://github.com/jupyter/notebook/issues/3039\n",
    "# https://matplotlib.org/api/_as_gen/matplotlib.pyplot.savefig.html\n",
    "\n",
    "plt.savefig(\"figure.pdf\",bbox_inches = 'tight',pad_inches = 0.5)"
   ]
  },
  {
   "cell_type": "code",
   "execution_count": null,
   "metadata": {
    "collapsed": true
   },
   "outputs": [],
   "source": []
  },
  {
   "cell_type": "code",
   "execution_count": 28,
   "metadata": {},
   "outputs": [
    {
     "data": {
      "text/plain": [
       "<Figure size 432x288 with 0 Axes>"
      ]
     },
     "metadata": {},
     "output_type": "display_data"
    }
   ],
   "source": [
    "plt.savefig(\"seaborn.pdf\")"
   ]
  },
  {
   "cell_type": "markdown",
   "metadata": {},
   "source": [
    "https://pythontips.com/2013/08/28/finding-the-module-version/"
   ]
  },
  {
   "cell_type": "code",
   "execution_count": 130,
   "metadata": {},
   "outputs": [
    {
     "data": {
      "text/plain": [
       "'0.7.1'"
      ]
     },
     "execution_count": 130,
     "metadata": {},
     "output_type": "execute_result"
    }
   ],
   "source": [
    "sns.__version__"
   ]
  },
  {
   "cell_type": "code",
   "execution_count": null,
   "metadata": {
    "collapsed": true
   },
   "outputs": [],
   "source": [
    "https://chrisalbon.com/python/data_wrangling/pandas_join_merge_dataframe/"
   ]
  },
  {
   "cell_type": "markdown",
   "metadata": {},
   "source": [
    "NOTES:\n",
    "\n",
    "- Matplotlib gallery : https://python-graph-gallery.com/category/matplotlib/\n",
    "- seaborn gallery: https://seaborn.pydata.org/examples/index.html\n",
    "\n",
    "- Using seaborn to visualize https://chrisalbon.com/python/data_wrangling/pandas_with_seaborn/"
   ]
  },
  {
   "cell_type": "code",
   "execution_count": null,
   "metadata": {
    "collapsed": true
   },
   "outputs": [],
   "source": []
  },
  {
   "cell_type": "code",
   "execution_count": null,
   "metadata": {
    "collapsed": true
   },
   "outputs": [],
   "source": []
  },
  {
   "cell_type": "code",
   "execution_count": null,
   "metadata": {
    "collapsed": true
   },
   "outputs": [],
   "source": []
  },
  {
   "cell_type": "code",
   "execution_count": null,
   "metadata": {
    "collapsed": true
   },
   "outputs": [],
   "source": []
  },
  {
   "cell_type": "markdown",
   "metadata": {},
   "source": [
    "### Unsupervised clustering? "
   ]
  },
  {
   "cell_type": "markdown",
   "metadata": {},
   "source": [
    "### What's the statistical significance of the observed samples \n",
    "\n",
    "I don't have data on previous years to bootstrap from \n",
    "\n",
    "The theoretical distribution ? \n",
    "\n",
    "Flip a coin 0.5 what is the theoretical distribution? "
   ]
  },
  {
   "cell_type": "code",
   "execution_count": null,
   "metadata": {
    "collapsed": true
   },
   "outputs": [],
   "source": []
  }
 ],
 "metadata": {
  "kernelspec": {
   "display_name": "Python 3",
   "language": "python",
   "name": "python3"
  },
  "language_info": {
   "codemirror_mode": {
    "name": "ipython",
    "version": 3
   },
   "file_extension": ".py",
   "mimetype": "text/x-python",
   "name": "python",
   "nbconvert_exporter": "python",
   "pygments_lexer": "ipython3",
   "version": "3.6.1"
  }
 },
 "nbformat": 4,
 "nbformat_minor": 2
}
